{
 "cells": [
  {
   "cell_type": "markdown",
   "id": "f8f7bc90",
   "metadata": {
    "toc": true
   },
   "source": [
    "<h1>Table of Contents<span class=\"tocSkip\"></span></h1>\n",
    "<div class=\"toc\"><ul class=\"toc-item\"><li><span><a href=\"#Import\" data-toc-modified-id=\"Import-1\"><span class=\"toc-item-num\">1&nbsp;&nbsp;</span>Import</a></span></li><li><span><a href=\"#Sprint-3:-Feature-Selection-and-Engineering-using-Python\" data-toc-modified-id=\"Sprint-3:-Feature-Selection-and-Engineering-using-Python-2\"><span class=\"toc-item-num\">2&nbsp;&nbsp;</span>Sprint 3: Feature Selection and Engineering using Python</a></span><ul class=\"toc-item\"><li><span><a href=\"#Missing-Value-Treatment\" data-toc-modified-id=\"Missing-Value-Treatment-2.1\"><span class=\"toc-item-num\">2.1&nbsp;&nbsp;</span>Missing Value Treatment</a></span></li><li><span><a href=\"#Data-Transformation-&amp;-Outlier-Analysis\" data-toc-modified-id=\"Data-Transformation-&amp;-Outlier-Analysis-2.2\"><span class=\"toc-item-num\">2.2&nbsp;&nbsp;</span>Data Transformation &amp; Outlier Analysis</a></span></li><li><span><a href=\"#Data-Transformation-&amp;-New-Feature-(if-any)\" data-toc-modified-id=\"Data-Transformation-&amp;-New-Feature-(if-any)-2.3\"><span class=\"toc-item-num\">2.3&nbsp;&nbsp;</span>Data Transformation &amp; New Feature (if any)</a></span><ul class=\"toc-item\"><li><span><a href=\"#Commission-Rate\" data-toc-modified-id=\"Commission-Rate-2.3.1\"><span class=\"toc-item-num\">2.3.1&nbsp;&nbsp;</span>Commission Rate</a></span></li><li><span><a href=\"#Age-Group\" data-toc-modified-id=\"Age-Group-2.3.2\"><span class=\"toc-item-num\">2.3.2&nbsp;&nbsp;</span>Age Group</a></span></li><li><span><a href=\"#Duration-Group\" data-toc-modified-id=\"Duration-Group-2.3.3\"><span class=\"toc-item-num\">2.3.3&nbsp;&nbsp;</span>Duration Group</a></span></li><li><span><a href=\"#Destination\" data-toc-modified-id=\"Destination-2.3.4\"><span class=\"toc-item-num\">2.3.4&nbsp;&nbsp;</span>Destination</a></span><ul class=\"toc-item\"><li><span><a href=\"#Dataset-Download\" data-toc-modified-id=\"Dataset-Download-2.3.4.1\"><span class=\"toc-item-num\">2.3.4.1&nbsp;&nbsp;</span>Dataset Download</a></span></li><li><span><a href=\"#Some-prior-modifications\" data-toc-modified-id=\"Some-prior-modifications-2.3.4.2\"><span class=\"toc-item-num\">2.3.4.2&nbsp;&nbsp;</span>Some prior modifications</a></span></li><li><span><a href=\"#Mapping\" data-toc-modified-id=\"Mapping-2.3.4.3\"><span class=\"toc-item-num\">2.3.4.3&nbsp;&nbsp;</span>Mapping</a></span></li></ul></li><li><span><a href=\"#Export-Updated-Data\" data-toc-modified-id=\"Export-Updated-Data-2.3.5\"><span class=\"toc-item-num\">2.3.5&nbsp;&nbsp;</span>Export Updated Data</a></span></li></ul></li><li><span><a href=\"#Type-of-Feature-Selection\" data-toc-modified-id=\"Type-of-Feature-Selection-2.4\"><span class=\"toc-item-num\">2.4&nbsp;&nbsp;</span>Type of Feature Selection</a></span><ul class=\"toc-item\"><li><span><a href=\"#Logical-Reasoning\" data-toc-modified-id=\"Logical-Reasoning-2.4.1\"><span class=\"toc-item-num\">2.4.1&nbsp;&nbsp;</span>Logical Reasoning</a></span></li><li><span><a href=\"#ChiSquared-Test\" data-toc-modified-id=\"ChiSquared-Test-2.4.2\"><span class=\"toc-item-num\">2.4.2&nbsp;&nbsp;</span>ChiSquared Test</a></span></li></ul></li></ul></li><li><span><a href=\"#Sprint-2:-Exploratory-Data-Analysis-using-MS-Power-BI/-Python-(matplotlib/seaborn)\" data-toc-modified-id=\"Sprint-2:-Exploratory-Data-Analysis-using-MS-Power-BI/-Python-(matplotlib/seaborn)-3\"><span class=\"toc-item-num\">3&nbsp;&nbsp;</span>Sprint 2: Exploratory Data Analysis using MS Power BI/ Python (matplotlib/seaborn)</a></span><ul class=\"toc-item\"><li><span><a href=\"#Data-Distribution-and-Density-Plots\" data-toc-modified-id=\"Data-Distribution-and-Density-Plots-3.1\"><span class=\"toc-item-num\">3.1&nbsp;&nbsp;</span>Data Distribution and Density Plots</a></span></li><li><span><a href=\"#Anomaly-Behaviour/-Patterns\" data-toc-modified-id=\"Anomaly-Behaviour/-Patterns-3.2\"><span class=\"toc-item-num\">3.2&nbsp;&nbsp;</span>Anomaly Behaviour/ Patterns</a></span></li><li><span><a href=\"#Statistical-Test-&amp;-Description\" data-toc-modified-id=\"Statistical-Test-&amp;-Description-3.3\"><span class=\"toc-item-num\">3.3&nbsp;&nbsp;</span>Statistical Test &amp; Description</a></span><ul class=\"toc-item\"><li><span><a href=\"#Chi-Squared-Test\" data-toc-modified-id=\"Chi-Squared-Test-3.3.1\"><span class=\"toc-item-num\">3.3.1&nbsp;&nbsp;</span>Chi-Squared Test</a></span><ul class=\"toc-item\"><li><span><a href=\"#Agency-Type-vs-Distribution-Channel\" data-toc-modified-id=\"Agency-Type-vs-Distribution-Channel-3.3.1.1\"><span class=\"toc-item-num\">3.3.1.1&nbsp;&nbsp;</span>Agency Type vs Distribution Channel</a></span></li><li><span><a href=\"#Agency-Type-vs-Claim\" data-toc-modified-id=\"Agency-Type-vs-Claim-3.3.1.2\"><span class=\"toc-item-num\">3.3.1.2&nbsp;&nbsp;</span>Agency Type vs Claim</a></span></li><li><span><a href=\"#Distribution-Channel-vs-Claim\" data-toc-modified-id=\"Distribution-Channel-vs-Claim-3.3.1.3\"><span class=\"toc-item-num\">3.3.1.3&nbsp;&nbsp;</span>Distribution Channel vs Claim</a></span></li></ul></li><li><span><a href=\"#Bivariate-Analysis:-Two-Sample-t-test\" data-toc-modified-id=\"Bivariate-Analysis:-Two-Sample-t-test-3.3.2\"><span class=\"toc-item-num\">3.3.2&nbsp;&nbsp;</span>Bivariate Analysis: Two Sample t-test</a></span><ul class=\"toc-item\"><li><span><a href=\"#Age-and-Distribution-Channel\" data-toc-modified-id=\"Age-and-Distribution-Channel-3.3.2.1\"><span class=\"toc-item-num\">3.3.2.1&nbsp;&nbsp;</span>Age and Distribution Channel</a></span></li><li><span><a href=\"#Age-and-Claim\" data-toc-modified-id=\"Age-and-Claim-3.3.2.2\"><span class=\"toc-item-num\">3.3.2.2&nbsp;&nbsp;</span>Age and Claim</a></span></li><li><span><a href=\"#Extra-Inference\" data-toc-modified-id=\"Extra-Inference-3.3.2.3\"><span class=\"toc-item-num\">3.3.2.3&nbsp;&nbsp;</span>Extra Inference</a></span></li></ul></li></ul></li></ul></li><li><span><a href=\"#Sprint-4:-Modelling-and-Evaluation-using-Python\" data-toc-modified-id=\"Sprint-4:-Modelling-and-Evaluation-using-Python-4\"><span class=\"toc-item-num\">4&nbsp;&nbsp;</span>Sprint 4: Modelling and Evaluation using Python</a></span><ul class=\"toc-item\"><li><span><a href=\"#Train-and-Test-Split,-Model-Development-&amp;-Model-Training-and-Selection-(Pick-an-algorithm)\" data-toc-modified-id=\"Train-and-Test-Split,-Model-Development-&amp;-Model-Training-and-Selection-(Pick-an-algorithm)-4.1\"><span class=\"toc-item-num\">4.1&nbsp;&nbsp;</span>Train and Test Split, Model Development &amp; Model Training and Selection (Pick an algorithm)</a></span></li><li><span><a href=\"#Model-Tuning-and-Scoring,-Model-Evaluation-&amp;-Choose-the-Best-Model\" data-toc-modified-id=\"Model-Tuning-and-Scoring,-Model-Evaluation-&amp;-Choose-the-Best-Model-4.2\"><span class=\"toc-item-num\">4.2&nbsp;&nbsp;</span>Model Tuning and Scoring, Model Evaluation &amp; Choose the Best Model</a></span></li></ul></li></ul></div>"
   ]
  },
  {
   "cell_type": "markdown",
   "id": "65316fe2",
   "metadata": {},
   "source": [
    "# Import"
   ]
  },
  {
   "cell_type": "code",
   "execution_count": 1,
   "id": "22a7dc40",
   "metadata": {},
   "outputs": [],
   "source": [
    "# Import some modules\n",
    "import pandas as pd\n",
    "import numpy as np\n",
    "\n",
    "import matplotlib.pyplot as plt\n",
    "import seaborn as sns\n",
    "import plotly.express as px\n",
    "from scipy import stats\n",
    "\n",
    "import warnings"
   ]
  },
  {
   "cell_type": "code",
   "execution_count": 2,
   "id": "7593e4a0",
   "metadata": {},
   "outputs": [],
   "source": [
    "# Remove any warning text\n",
    "import warnings\n",
    "warnings.simplefilter(action='ignore', category = FutureWarning)\n",
    "warnings.filterwarnings('ignore')"
   ]
  },
  {
   "cell_type": "code",
   "execution_count": 3,
   "id": "8456c20c",
   "metadata": {},
   "outputs": [],
   "source": [
    "# Read the dataset\n",
    "dataset = pd.read_excel(r\"C:\\Users\\ASUS\\MASA_Hackathon\\[MASA Hackathon 2022] Travel Insurance Data Set .xlsx\", \n",
    "                        sheet_name=\"Travel Insurance Data Set\")"
   ]
  },
  {
   "cell_type": "code",
   "execution_count": 4,
   "id": "d605cdda",
   "metadata": {},
   "outputs": [
    {
     "data": {
      "text/html": [
       "<div>\n",
       "<style scoped>\n",
       "    .dataframe tbody tr th:only-of-type {\n",
       "        vertical-align: middle;\n",
       "    }\n",
       "\n",
       "    .dataframe tbody tr th {\n",
       "        vertical-align: top;\n",
       "    }\n",
       "\n",
       "    .dataframe thead th {\n",
       "        text-align: right;\n",
       "    }\n",
       "</style>\n",
       "<table border=\"1\" class=\"dataframe\">\n",
       "  <thead>\n",
       "    <tr style=\"text-align: right;\">\n",
       "      <th></th>\n",
       "      <th>Agency</th>\n",
       "      <th>Agency Type</th>\n",
       "      <th>Distribution Channel</th>\n",
       "      <th>Product Name</th>\n",
       "      <th>Claim</th>\n",
       "      <th>Duration</th>\n",
       "      <th>Destination</th>\n",
       "      <th>Net Sales</th>\n",
       "      <th>Commision (in value)</th>\n",
       "      <th>Gender</th>\n",
       "      <th>Age</th>\n",
       "    </tr>\n",
       "  </thead>\n",
       "  <tbody>\n",
       "    <tr>\n",
       "      <th>0</th>\n",
       "      <td>CBH</td>\n",
       "      <td>Travel Agency</td>\n",
       "      <td>Offline</td>\n",
       "      <td>Comprehensive Plan</td>\n",
       "      <td>No</td>\n",
       "      <td>186</td>\n",
       "      <td>MALAYSIA</td>\n",
       "      <td>-29.0</td>\n",
       "      <td>9.57</td>\n",
       "      <td>F</td>\n",
       "      <td>81</td>\n",
       "    </tr>\n",
       "    <tr>\n",
       "      <th>1</th>\n",
       "      <td>CBH</td>\n",
       "      <td>Travel Agency</td>\n",
       "      <td>Offline</td>\n",
       "      <td>Comprehensive Plan</td>\n",
       "      <td>No</td>\n",
       "      <td>186</td>\n",
       "      <td>MALAYSIA</td>\n",
       "      <td>-29.0</td>\n",
       "      <td>9.57</td>\n",
       "      <td>F</td>\n",
       "      <td>71</td>\n",
       "    </tr>\n",
       "    <tr>\n",
       "      <th>2</th>\n",
       "      <td>CWT</td>\n",
       "      <td>Travel Agency</td>\n",
       "      <td>Online</td>\n",
       "      <td>Rental Vehicle Excess Insurance</td>\n",
       "      <td>No</td>\n",
       "      <td>65</td>\n",
       "      <td>AUSTRALIA</td>\n",
       "      <td>-49.5</td>\n",
       "      <td>29.70</td>\n",
       "      <td>NaN</td>\n",
       "      <td>32</td>\n",
       "    </tr>\n",
       "    <tr>\n",
       "      <th>3</th>\n",
       "      <td>CWT</td>\n",
       "      <td>Travel Agency</td>\n",
       "      <td>Online</td>\n",
       "      <td>Rental Vehicle Excess Insurance</td>\n",
       "      <td>No</td>\n",
       "      <td>60</td>\n",
       "      <td>AUSTRALIA</td>\n",
       "      <td>-39.6</td>\n",
       "      <td>23.76</td>\n",
       "      <td>NaN</td>\n",
       "      <td>32</td>\n",
       "    </tr>\n",
       "    <tr>\n",
       "      <th>4</th>\n",
       "      <td>CWT</td>\n",
       "      <td>Travel Agency</td>\n",
       "      <td>Online</td>\n",
       "      <td>Rental Vehicle Excess Insurance</td>\n",
       "      <td>No</td>\n",
       "      <td>79</td>\n",
       "      <td>ITALY</td>\n",
       "      <td>-19.8</td>\n",
       "      <td>11.88</td>\n",
       "      <td>NaN</td>\n",
       "      <td>41</td>\n",
       "    </tr>\n",
       "    <tr>\n",
       "      <th>...</th>\n",
       "      <td>...</td>\n",
       "      <td>...</td>\n",
       "      <td>...</td>\n",
       "      <td>...</td>\n",
       "      <td>...</td>\n",
       "      <td>...</td>\n",
       "      <td>...</td>\n",
       "      <td>...</td>\n",
       "      <td>...</td>\n",
       "      <td>...</td>\n",
       "      <td>...</td>\n",
       "    </tr>\n",
       "    <tr>\n",
       "      <th>63321</th>\n",
       "      <td>JZI</td>\n",
       "      <td>Airlines</td>\n",
       "      <td>Online</td>\n",
       "      <td>Basic Plan</td>\n",
       "      <td>No</td>\n",
       "      <td>111</td>\n",
       "      <td>JAPAN</td>\n",
       "      <td>35.0</td>\n",
       "      <td>12.25</td>\n",
       "      <td>M</td>\n",
       "      <td>31</td>\n",
       "    </tr>\n",
       "    <tr>\n",
       "      <th>63322</th>\n",
       "      <td>JZI</td>\n",
       "      <td>Airlines</td>\n",
       "      <td>Online</td>\n",
       "      <td>Basic Plan</td>\n",
       "      <td>No</td>\n",
       "      <td>58</td>\n",
       "      <td>CHINA</td>\n",
       "      <td>40.0</td>\n",
       "      <td>14.00</td>\n",
       "      <td>F</td>\n",
       "      <td>40</td>\n",
       "    </tr>\n",
       "    <tr>\n",
       "      <th>63323</th>\n",
       "      <td>JZI</td>\n",
       "      <td>Airlines</td>\n",
       "      <td>Online</td>\n",
       "      <td>Basic Plan</td>\n",
       "      <td>No</td>\n",
       "      <td>2</td>\n",
       "      <td>MALAYSIA</td>\n",
       "      <td>18.0</td>\n",
       "      <td>6.30</td>\n",
       "      <td>M</td>\n",
       "      <td>57</td>\n",
       "    </tr>\n",
       "    <tr>\n",
       "      <th>63324</th>\n",
       "      <td>JZI</td>\n",
       "      <td>Airlines</td>\n",
       "      <td>Online</td>\n",
       "      <td>Basic Plan</td>\n",
       "      <td>No</td>\n",
       "      <td>3</td>\n",
       "      <td>VIET NAM</td>\n",
       "      <td>18.0</td>\n",
       "      <td>6.30</td>\n",
       "      <td>M</td>\n",
       "      <td>63</td>\n",
       "    </tr>\n",
       "    <tr>\n",
       "      <th>63325</th>\n",
       "      <td>JZI</td>\n",
       "      <td>Airlines</td>\n",
       "      <td>Online</td>\n",
       "      <td>Basic Plan</td>\n",
       "      <td>No</td>\n",
       "      <td>22</td>\n",
       "      <td>HONG KONG</td>\n",
       "      <td>26.0</td>\n",
       "      <td>9.10</td>\n",
       "      <td>F</td>\n",
       "      <td>35</td>\n",
       "    </tr>\n",
       "  </tbody>\n",
       "</table>\n",
       "<p>63326 rows × 11 columns</p>\n",
       "</div>"
      ],
      "text/plain": [
       "      Agency    Agency Type Distribution Channel  \\\n",
       "0        CBH  Travel Agency              Offline   \n",
       "1        CBH  Travel Agency              Offline   \n",
       "2        CWT  Travel Agency               Online   \n",
       "3        CWT  Travel Agency               Online   \n",
       "4        CWT  Travel Agency               Online   \n",
       "...      ...            ...                  ...   \n",
       "63321    JZI       Airlines               Online   \n",
       "63322    JZI       Airlines               Online   \n",
       "63323    JZI       Airlines               Online   \n",
       "63324    JZI       Airlines               Online   \n",
       "63325    JZI       Airlines               Online   \n",
       "\n",
       "                          Product Name Claim  Duration Destination  Net Sales  \\\n",
       "0                   Comprehensive Plan    No       186    MALAYSIA      -29.0   \n",
       "1                   Comprehensive Plan    No       186    MALAYSIA      -29.0   \n",
       "2      Rental Vehicle Excess Insurance    No        65   AUSTRALIA      -49.5   \n",
       "3      Rental Vehicle Excess Insurance    No        60   AUSTRALIA      -39.6   \n",
       "4      Rental Vehicle Excess Insurance    No        79       ITALY      -19.8   \n",
       "...                                ...   ...       ...         ...        ...   \n",
       "63321                       Basic Plan    No       111       JAPAN       35.0   \n",
       "63322                       Basic Plan    No        58       CHINA       40.0   \n",
       "63323                       Basic Plan    No         2    MALAYSIA       18.0   \n",
       "63324                       Basic Plan    No         3    VIET NAM       18.0   \n",
       "63325                       Basic Plan    No        22   HONG KONG       26.0   \n",
       "\n",
       "       Commision (in value) Gender  Age  \n",
       "0                      9.57      F   81  \n",
       "1                      9.57      F   71  \n",
       "2                     29.70    NaN   32  \n",
       "3                     23.76    NaN   32  \n",
       "4                     11.88    NaN   41  \n",
       "...                     ...    ...  ...  \n",
       "63321                 12.25      M   31  \n",
       "63322                 14.00      F   40  \n",
       "63323                  6.30      M   57  \n",
       "63324                  6.30      M   63  \n",
       "63325                  9.10      F   35  \n",
       "\n",
       "[63326 rows x 11 columns]"
      ]
     },
     "execution_count": 4,
     "metadata": {},
     "output_type": "execute_result"
    }
   ],
   "source": [
    "# Display the dataset\n",
    "dataset"
   ]
  },
  {
   "cell_type": "markdown",
   "id": "0c3697f0",
   "metadata": {},
   "source": [
    "# Sprint 3: Feature Selection and Engineering using Python"
   ]
  },
  {
   "cell_type": "markdown",
   "id": "93a78267",
   "metadata": {},
   "source": [
    "## Missing Value Treatment"
   ]
  },
  {
   "cell_type": "code",
   "execution_count": 5,
   "id": "f5f23491",
   "metadata": {},
   "outputs": [
    {
     "data": {
      "text/plain": [
       "Agency                      0\n",
       "Agency Type                 0\n",
       "Distribution Channel        0\n",
       "Product Name                0\n",
       "Claim                       0\n",
       "Duration                    0\n",
       "Destination                 0\n",
       "Net Sales                   0\n",
       "Commision (in value)        0\n",
       "Gender                  45107\n",
       "Age                         0\n",
       "dtype: int64"
      ]
     },
     "execution_count": 5,
     "metadata": {},
     "output_type": "execute_result"
    }
   ],
   "source": [
    "# Check which column has missing values (with counts)\n",
    "dataset.isna().sum()"
   ]
  },
  {
   "cell_type": "markdown",
   "id": "cacda1e8",
   "metadata": {},
   "source": [
    "The only column with missing values is `Gender`.<br>\n",
    "Therefore, we will only focus on `Gender` for the missing value treatment.<br>\n",
    "We will be using `KNeighborsClassifier` since the dataset is not huge enough and `KNeighborsClassifier` can cater for this."
   ]
  },
  {
   "cell_type": "code",
   "execution_count": 6,
   "id": "18a1b546",
   "metadata": {},
   "outputs": [],
   "source": [
    "# Import KNeighborsClassifier from sklearn.neighbors\n",
    "from sklearn.neighbors import KNeighborsClassifier"
   ]
  },
  {
   "cell_type": "code",
   "execution_count": 7,
   "id": "c65c79c6",
   "metadata": {},
   "outputs": [],
   "source": [
    "# Remove the warning message related to chained assignment\n",
    "pd.options.mode.chained_assignment = None  # default='warn'"
   ]
  },
  {
   "cell_type": "markdown",
   "id": "3c635568",
   "metadata": {},
   "source": [
    "After some analysis in PowerBI, we found out that:\n",
    "- C2B, LWC, KML, CBH, TTW and CSR are not having any missing `Gender` information.\n",
    "- CWT, EPX and SSI are not collecting information about `Gender` of the customers with 5 exception customers from CWT.\n",
    "- Excluding CWT, EPX and SSI, all the products that are claimed (i.e., `Claim == ‘Yes’`) are required to record the `Gender` of the customers.\n",
    "\n",
    "Therefore, we will segment the dataset according to `Agency` and will do the following:\n",
    "- C2B, LWC, KML, CBH, TTW and CSR\n",
    "    - Do nothing\n",
    "- JZI, JWT, TST, RAB, ART, CCR and ADM\n",
    "    - Use K Neighbors Classifier to predict the possible value for the record based on duration, commission and age by Agency\n",
    "    - Fill in the missing values with either `‘M’` or `‘F’`\n",
    "- CWT, EPX and SSI\n",
    "    - Fill in the missing values with `‘N’`"
   ]
  },
  {
   "cell_type": "code",
   "execution_count": 8,
   "id": "a2d3bcae",
   "metadata": {},
   "outputs": [],
   "source": [
    "# Agency that contains missing values that need to be updated\n",
    "Update_Agency = [\"JZI\", \"JWT\", \"TST\", \"RAB\", \"ART\", \"CCR\", \"ADM\"]"
   ]
  },
  {
   "cell_type": "code",
   "execution_count": 9,
   "id": "26e5935a",
   "metadata": {},
   "outputs": [],
   "source": [
    "# Fill in the missing values for agency \"JZI\", \"JWT\", \"TST\", \"RAB\", \"ART\", \"CCR\" and \"ADM\"\n",
    "for Agency in Update_Agency:\n",
    "    # Obtain the subset of data based on Agency\n",
    "    filled_df = dataset[(dataset[\"Agency\"] == Agency) & (dataset[\"Gender\"].notna())]\n",
    "    filling_df = dataset[(dataset[\"Agency\"] == Agency) & (dataset[\"Gender\"].isna())]\n",
    "    \n",
    "    # Prepare features and the response variable\n",
    "    y = filled_df[\"Gender\"].values\n",
    "    X = filled_df[[\"Duration\", \"Commision (in value)\", \"Age\"]].values\n",
    "    \n",
    "    # Create a k-NN classifier with 5 neighbors\n",
    "    k_nn = KNeighborsClassifier(n_neighbors=5)\n",
    "    \n",
    "    # Fit the classifier to the data\n",
    "    k_nn.fit(X, y)\n",
    "    \n",
    "    # Predict the missing Gender and fill in dataset\n",
    "    filling_df[\"Gender\"] = k_nn.predict(filling_df[[\"Duration\", \"Commision (in value)\", \"Age\"]].values)\n",
    "    for index, gender in zip(filling_df.index, filling_df[\"Gender\"].values):\n",
    "        dataset.at[index, \"Gender\"] = gender"
   ]
  },
  {
   "cell_type": "code",
   "execution_count": 10,
   "id": "5e165877",
   "metadata": {},
   "outputs": [],
   "source": [
    "# Fill in the missing values for agency CWT, EPX and SSI with label \"N\" for \"Gender\" column\n",
    "dataset[\"Gender\"].fillna(\"N\", inplace=True)"
   ]
  },
  {
   "cell_type": "code",
   "execution_count": 11,
   "id": "72a62dff",
   "metadata": {},
   "outputs": [
    {
     "data": {
      "text/plain": [
       "Agency                  0\n",
       "Agency Type             0\n",
       "Distribution Channel    0\n",
       "Product Name            0\n",
       "Claim                   0\n",
       "Duration                0\n",
       "Destination             0\n",
       "Net Sales               0\n",
       "Commision (in value)    0\n",
       "Gender                  0\n",
       "Age                     0\n",
       "dtype: int64"
      ]
     },
     "execution_count": 11,
     "metadata": {},
     "output_type": "execute_result"
    }
   ],
   "source": [
    "# Double confirm that the column is filled up\n",
    "dataset.isna().sum()"
   ]
  },
  {
   "cell_type": "code",
   "execution_count": 12,
   "id": "fbab92a1",
   "metadata": {},
   "outputs": [
    {
     "data": {
      "text/plain": [
       "Gender\n",
       "F     8958\n",
       "M     9618\n",
       "N    44750\n",
       "Name: Age, dtype: int64"
      ]
     },
     "execution_count": 12,
     "metadata": {},
     "output_type": "execute_result"
    }
   ],
   "source": [
    "# Get a rough idea of the distribution\n",
    "dataset.groupby([\"Gender\"])[\"Age\"].count()"
   ]
  },
  {
   "cell_type": "markdown",
   "id": "bb020d20",
   "metadata": {},
   "source": [
    "Majority of the records are from CWT, EPX and SSI Agency and we fill in with `N`.<br>\n",
    "Therefore, the conclusion is that this column will not be used in modeling later."
   ]
  },
  {
   "cell_type": "markdown",
   "id": "986dd337",
   "metadata": {},
   "source": [
    "## Data Transformation & Outlier Analysis"
   ]
  },
  {
   "cell_type": "markdown",
   "id": "6f0915c8",
   "metadata": {},
   "source": [
    "Before we start out outlier analysis, we will perform some prior data transformation based on the need."
   ]
  },
  {
   "cell_type": "markdown",
   "id": "98e10f13",
   "metadata": {},
   "source": [
    "- This is for correction purpose."
   ]
  },
  {
   "cell_type": "code",
   "execution_count": 13,
   "id": "3cf0bdc6",
   "metadata": {},
   "outputs": [],
   "source": [
    "# Rename 'Commision (in value)' column to 'Commission'\n",
    "dataset.rename(columns={\"Commision (in value)\": \"Commission\"}, inplace=True)"
   ]
  },
  {
   "cell_type": "markdown",
   "id": "e35579fe",
   "metadata": {},
   "source": [
    "- This is because the `Net Sales` are not supposedly to be negative."
   ]
  },
  {
   "cell_type": "code",
   "execution_count": 14,
   "id": "9f16c8e2",
   "metadata": {},
   "outputs": [],
   "source": [
    "# Change all the negative values to positive in 'Net Sales' colummn\n",
    "dataset[\"Net Sales\"] = dataset[\"Net Sales\"].abs()"
   ]
  },
  {
   "cell_type": "markdown",
   "id": "ad11c0c0",
   "metadata": {},
   "source": [
    "We can start to define the function to remove outliers."
   ]
  },
  {
   "cell_type": "code",
   "execution_count": 15,
   "id": "42ab9f7b",
   "metadata": {},
   "outputs": [],
   "source": [
    "# Define a function to ease our process of reusing the same set of code\n",
    "def remove_outlier(df, field, method=\"IQR\"):\n",
    "    '''\n",
    "    This function will remove outliers directly from the dataframe.\n",
    "    \n",
    "    3 inputs are required:\n",
    "        (a) DataFrame object\n",
    "        (b) The field to remove outliers\n",
    "        (c) The method: \"IQR\" (default) or \"STD\"\n",
    "    \n",
    "    Number of records removed will be returned.\n",
    "    '''\n",
    "    if(method == \"IQR\"):\n",
    "        Q1, Q3 = np.percentile(df[field], [25, 75])\n",
    "        IQR = Q3 - Q1\n",
    "        lower_fence = Q1 - (IQR * 1.5)\n",
    "        upper_fence = Q3 + (IQR * 1.5)\n",
    "    elif(method == \"STD\"):\n",
    "        lower_fence = df[field].mean() - (df[field].std() * 3)\n",
    "        upper_fence = df[field].mean() + (df[field].std() * 3)\n",
    "    else:\n",
    "        return \"The only accepted values for method parameter are \\\"IQR\\\" and \\\"STD\\\"\"\n",
    "    \n",
    "    outlier_indices = df[~df[field].between(lower_fence, upper_fence)].index\n",
    "    df.drop(outlier_indices, inplace=True)\n",
    "    \n",
    "    return \"# of records removed: \" + str(len(outlier_indices))"
   ]
  },
  {
   "cell_type": "code",
   "execution_count": 16,
   "id": "da778256",
   "metadata": {},
   "outputs": [
    {
     "data": {
      "text/plain": [
       "'# of records removed: 1047'"
      ]
     },
     "execution_count": 16,
     "metadata": {},
     "output_type": "execute_result"
    }
   ],
   "source": [
    "# Remove outliers based on 'Age' column\n",
    "remove_outlier(dataset, \"Age\", method=\"STD\")"
   ]
  },
  {
   "cell_type": "code",
   "execution_count": 17,
   "id": "380e9cba",
   "metadata": {},
   "outputs": [
    {
     "data": {
      "text/plain": [
       "'# of records removed: 1877'"
      ]
     },
     "execution_count": 17,
     "metadata": {},
     "output_type": "execute_result"
    }
   ],
   "source": [
    "# Remove outliers based on 'Net Sales' column\n",
    "remove_outlier(dataset, \"Net Sales\", method=\"STD\")"
   ]
  },
  {
   "cell_type": "code",
   "execution_count": 18,
   "id": "3ae44ee3",
   "metadata": {},
   "outputs": [
    {
     "data": {
      "text/plain": [
       "'# of records removed: 391'"
      ]
     },
     "execution_count": 18,
     "metadata": {},
     "output_type": "execute_result"
    }
   ],
   "source": [
    "# Remove outliers based on 'Duration' column\n",
    "remove_outlier(dataset, \"Duration\", method=\"STD\")"
   ]
  },
  {
   "cell_type": "markdown",
   "id": "ee745932",
   "metadata": {},
   "source": [
    "After removing all the records containing outliers, something interesting happens."
   ]
  },
  {
   "cell_type": "code",
   "execution_count": 19,
   "id": "33c8c715",
   "metadata": {},
   "outputs": [
    {
     "data": {
      "text/plain": [
       "array(['CBH', 'CWT', 'JZI', 'KML', 'EPX', 'C2B', 'RAB', 'SSI', 'ART',\n",
       "       'CSR', 'CCR', 'ADM', 'LWC', 'TST'], dtype=object)"
      ]
     },
     "execution_count": 19,
     "metadata": {},
     "output_type": "execute_result"
    }
   ],
   "source": [
    "# Obtain all the agency\n",
    "dataset[\"Agency\"].unique()"
   ]
  },
  {
   "cell_type": "markdown",
   "id": "a5636048",
   "metadata": {},
   "source": [
    "All of the records related to **JWT** and **TTW** agencies are being removed.<br>\n",
    "This means that the data collected by these agencies are having low qualities.<br>\n",
    "Therefore, it is fine to remove the outliers."
   ]
  },
  {
   "cell_type": "markdown",
   "id": "4a1a990a",
   "metadata": {},
   "source": [
    "## Data Transformation & New Feature (if any)"
   ]
  },
  {
   "cell_type": "markdown",
   "id": "47308a7b",
   "metadata": {},
   "source": [
    "### Commission Rate"
   ]
  },
  {
   "cell_type": "markdown",
   "id": "79d2563c",
   "metadata": {},
   "source": [
    "Since in our finding that there are some obvious linear relationships between `Net Sales` and `Commission` based on the `Agency`, we will add a new column for the `Commission Rate`.\n",
    "\n",
    "Define: `Commission Rate` = `Commission` / `Net Sales`"
   ]
  },
  {
   "cell_type": "code",
   "execution_count": 20,
   "id": "a710ff86",
   "metadata": {},
   "outputs": [],
   "source": [
    "# Divide 'Commission' by 'Net Sales' and assign to a new column named 'Commission Rate'\n",
    "dataset[\"Commission Rate\"] = dataset[\"Commission\"] / dataset[\"Net Sales\"]\n",
    "\n",
    "# Round the values to 2 decimal points and convert negative value into positive\n",
    "dataset[\"Commission Rate\"] = dataset[\"Commission Rate\"].round(2)"
   ]
  },
  {
   "cell_type": "code",
   "execution_count": 21,
   "id": "7e8430a9",
   "metadata": {},
   "outputs": [
    {
     "data": {
      "text/plain": [
       "Agency\n",
       "ADM                 [0.38, inf]\n",
       "ART                 [0.35, inf]\n",
       "C2B                 [0.25, inf]\n",
       "CBH                 [0.33, inf]\n",
       "CCR                 [0.33, inf]\n",
       "CSR                      [0.33]\n",
       "CWT                  [0.6, inf]\n",
       "EPX                  [0.0, nan]\n",
       "JZI                 [0.35, inf]\n",
       "KML                 [0.38, inf]\n",
       "LWC           [0.25, inf, 0.65]\n",
       "RAB                  [0.4, inf]\n",
       "SSI    [0.28, 0.29, 0.27, 0.26]\n",
       "TST                 [inf, 0.35]\n",
       "Name: Commission Rate, dtype: object"
      ]
     },
     "execution_count": 21,
     "metadata": {},
     "output_type": "execute_result"
    }
   ],
   "source": [
    "# Display the unique values of 'Commission Rate' for each Agency\n",
    "dataset.groupby([\"Agency\"])[\"Commission Rate\"].unique()"
   ]
  },
  {
   "cell_type": "markdown",
   "id": "939c487c",
   "metadata": {},
   "source": [
    "- Most of the agency (12) has only 1 rate of commission\n",
    "- **SSI** Agency has commission rate in the range of `0.26` ~ `0.29`\n",
    "- **LWC** has commission rate of `0.25` and `0.65`\n",
    "- `inf` implies that the `Net Sales` is `0`\n",
    "- `nan` implies that both `Net Sales` and `Commission` are `0`"
   ]
  },
  {
   "cell_type": "markdown",
   "id": "8f81b4b2",
   "metadata": {},
   "source": [
    "### Age Group"
   ]
  },
  {
   "cell_type": "markdown",
   "id": "4319733f",
   "metadata": {},
   "source": [
    "A new column indicating the `Age Group` is created based on the `Age` of the customer.<br>\n",
    "The segmentation is based on the most common standard in insurance industry."
   ]
  },
  {
   "cell_type": "code",
   "execution_count": 22,
   "id": "55dfcc37",
   "metadata": {},
   "outputs": [],
   "source": [
    "# Set up 'Age Group' column based on 'Age' column\n",
    "dataset[\"Age Group\"] = np.where((dataset[\"Age\"] >= 0) & (dataset[\"Age\"] <= 9), \"0-9\",\n",
    "                        np.where((dataset[\"Age\"] >= 10) & (dataset[\"Age\"] <= 19), \"10-19\",\n",
    "                         np.where((dataset[\"Age\"] >= 20) & (dataset[\"Age\"] <= 29), \"20-29\",\n",
    "                          np.where((dataset[\"Age\"] >= 30) & (dataset[\"Age\"] <= 39), \"30-39\",\n",
    "                           np.where((dataset[\"Age\"] >= 40) & (dataset[\"Age\"] <= 49), \"40-49\",\n",
    "                            np.where((dataset[\"Age\"] >= 50) & (dataset[\"Age\"] <= 59), \"50-59\",\n",
    "                             np.where(dataset[\"Age\"] >= 60, \"60+\", \"?\")))))))"
   ]
  },
  {
   "cell_type": "code",
   "execution_count": 23,
   "id": "6eec1861",
   "metadata": {},
   "outputs": [
    {
     "data": {
      "text/plain": [
       "Age Group\n",
       "0-9         28\n",
       "10-19      206\n",
       "20-29     7124\n",
       "30-39    35711\n",
       "40-49     8938\n",
       "50-59     5092\n",
       "60+       2912\n",
       "Name: Agency, dtype: int64"
      ]
     },
     "execution_count": 23,
     "metadata": {},
     "output_type": "execute_result"
    }
   ],
   "source": [
    "# Display the count of records for each type of 'Age Group'\n",
    "dataset.groupby([\"Age Group\"])[\"Agency\"].count()"
   ]
  },
  {
   "cell_type": "markdown",
   "id": "76a37994",
   "metadata": {},
   "source": [
    "This creates a more symmetry distribution to be used later in the modeling."
   ]
  },
  {
   "cell_type": "markdown",
   "id": "1126249e",
   "metadata": {},
   "source": [
    "### Duration Group"
   ]
  },
  {
   "cell_type": "code",
   "execution_count": 24,
   "id": "0d41d9a6",
   "metadata": {},
   "outputs": [
    {
     "data": {
      "text/plain": [
       "305"
      ]
     },
     "execution_count": 24,
     "metadata": {},
     "output_type": "execute_result"
    }
   ],
   "source": [
    "len(dataset[\"Duration\"].unique())"
   ]
  },
  {
   "cell_type": "markdown",
   "id": "22874321",
   "metadata": {},
   "source": [
    "There are too many values for `Duration` column.<br>\n",
    "We will create a new column named `Duration Group` to segment the `Duration` into groups of 600 - 2100 records.<br>\n",
    "We acknowledge that the difference between low `Duration` are significant and that for the high `Duration` is less significant.<br>\n",
    "Therefore, `Duration` with value `2` to `28` are distinct and not grouped."
   ]
  },
  {
   "cell_type": "code",
   "execution_count": 25,
   "id": "9a9e87de",
   "metadata": {},
   "outputs": [],
   "source": [
    "# Set up 'Duration Group' column based on 'Duration' column\n",
    "dataset[\"Duration Group\"] = np.where((dataset[\"Duration\"] >= 200), \"200+\",\n",
    "                             np.where((dataset[\"Duration\"] >= 160) & (dataset[\"Duration\"] <= 199), \"160-199\",\n",
    "                              np.where((dataset[\"Duration\"] >= 140) & (dataset[\"Duration\"] <= 159), \"140-159\",\n",
    "                               np.where((dataset[\"Duration\"] >= 120) & (dataset[\"Duration\"] <= 139), \"120-139\",\n",
    "                                np.where((dataset[\"Duration\"] >= 110) & (dataset[\"Duration\"] <= 119), \"110-119\",\n",
    "                                 np.where((dataset[\"Duration\"] >= 100) & (dataset[\"Duration\"] <= 109), \"100-109\",\n",
    "                                  np.where((dataset[\"Duration\"] >= 90) & (dataset[\"Duration\"] <= 99), \"90-99\",\n",
    "                                   np.where((dataset[\"Duration\"] >= 80) & (dataset[\"Duration\"] <= 89), \"80-89\",\n",
    "                                    np.where((dataset[\"Duration\"] >= 75) & (dataset[\"Duration\"] <= 79), \"75-79\",\n",
    "                                     np.where((dataset[\"Duration\"] >= 70) & (dataset[\"Duration\"] <= 74), \"70-74\",\n",
    "                                      np.where((dataset[\"Duration\"] >= 65) & (dataset[\"Duration\"] <= 69), \"65-69\",\n",
    "                                       np.where((dataset[\"Duration\"] >= 60) & (dataset[\"Duration\"] <= 64), \"60-64\",\n",
    "                                        np.where((dataset[\"Duration\"] >= 55) & (dataset[\"Duration\"] <= 59), \"55-59\",\n",
    "                                         np.where((dataset[\"Duration\"] >= 50) & (dataset[\"Duration\"] <= 54), \"50-54\",\n",
    "                                          np.where((dataset[\"Duration\"] >= 47) & (dataset[\"Duration\"] <= 49), \"47-49\",\n",
    "                                           np.where((dataset[\"Duration\"] >= 44) & (dataset[\"Duration\"] <= 46), \"44-46\",\n",
    "                                            np.where((dataset[\"Duration\"] >= 41) & (dataset[\"Duration\"] <= 43), \"41-43\",\n",
    "                                             np.where((dataset[\"Duration\"] >= 39) & (dataset[\"Duration\"] <= 40), \"39-40\",\n",
    "                                              np.where((dataset[\"Duration\"] >= 37) & (dataset[\"Duration\"] <= 38), \"37-38\",\n",
    "                                               np.where((dataset[\"Duration\"] >= 35) & (dataset[\"Duration\"] <= 36), \"35-36\",\n",
    "                                                np.where((dataset[\"Duration\"] >= 33) & (dataset[\"Duration\"] <= 34), \"33-34\",\n",
    "                                                 np.where((dataset[\"Duration\"] >= 31) & (dataset[\"Duration\"] <= 32), \"31-32\",\n",
    "                                                  np.where((dataset[\"Duration\"] >= 29) & (dataset[\"Duration\"] <= 30), \"29-30\",\n",
    "                                                   np.where((dataset[\"Duration\"] >= 0) & (dataset[\"Duration\"] <= 1), \"0-1\",\n",
    "                                                    dataset[\"Duration\"]))))))))))))))))))))))))"
   ]
  },
  {
   "cell_type": "markdown",
   "id": "aba59a3e",
   "metadata": {},
   "source": [
    "### Destination"
   ]
  },
  {
   "cell_type": "markdown",
   "id": "7db3b520",
   "metadata": {},
   "source": [
    "There are too many records in `Destination` column because the data is referring to the **countries** the insured visited.<br>\n",
    "Two new columns are created for drilling up purpose.<br>\n",
    "Values about the **sub-region** and **region** of the `Destination` are being added to the dataset."
   ]
  },
  {
   "cell_type": "markdown",
   "id": "40f3b17d",
   "metadata": {},
   "source": [
    "#### Dataset Download"
   ]
  },
  {
   "cell_type": "markdown",
   "id": "961d669a",
   "metadata": {},
   "source": [
    "<a href=\"https://www.kaggle.com/datasets/andradaolteanu/country-mapping-iso-continent-region\">We will use this Dataset from Kaggle for mapping purposes.</a>"
   ]
  },
  {
   "cell_type": "code",
   "execution_count": 26,
   "id": "2148d092",
   "metadata": {},
   "outputs": [],
   "source": [
    "# Read the 'Country Mapping' dataset\n",
    "country_mapping_df = pd.read_csv(r\"C:\\Users\\ASUS\\MASA_Hackathon\\continents2.csv\")"
   ]
  },
  {
   "cell_type": "code",
   "execution_count": 27,
   "id": "a334a056",
   "metadata": {},
   "outputs": [
    {
     "data": {
      "text/html": [
       "<div>\n",
       "<style scoped>\n",
       "    .dataframe tbody tr th:only-of-type {\n",
       "        vertical-align: middle;\n",
       "    }\n",
       "\n",
       "    .dataframe tbody tr th {\n",
       "        vertical-align: top;\n",
       "    }\n",
       "\n",
       "    .dataframe thead th {\n",
       "        text-align: right;\n",
       "    }\n",
       "</style>\n",
       "<table border=\"1\" class=\"dataframe\">\n",
       "  <thead>\n",
       "    <tr style=\"text-align: right;\">\n",
       "      <th></th>\n",
       "      <th>name</th>\n",
       "      <th>alpha-2</th>\n",
       "      <th>alpha-3</th>\n",
       "      <th>country-code</th>\n",
       "      <th>iso_3166-2</th>\n",
       "      <th>region</th>\n",
       "      <th>sub-region</th>\n",
       "      <th>intermediate-region</th>\n",
       "      <th>region-code</th>\n",
       "      <th>sub-region-code</th>\n",
       "      <th>intermediate-region-code</th>\n",
       "    </tr>\n",
       "  </thead>\n",
       "  <tbody>\n",
       "    <tr>\n",
       "      <th>0</th>\n",
       "      <td>Afghanistan</td>\n",
       "      <td>AF</td>\n",
       "      <td>AFG</td>\n",
       "      <td>4</td>\n",
       "      <td>ISO 3166-2:AF</td>\n",
       "      <td>Asia</td>\n",
       "      <td>Southern Asia</td>\n",
       "      <td>NaN</td>\n",
       "      <td>142.0</td>\n",
       "      <td>34.0</td>\n",
       "      <td>NaN</td>\n",
       "    </tr>\n",
       "    <tr>\n",
       "      <th>1</th>\n",
       "      <td>Åland Islands</td>\n",
       "      <td>AX</td>\n",
       "      <td>ALA</td>\n",
       "      <td>248</td>\n",
       "      <td>ISO 3166-2:AX</td>\n",
       "      <td>Europe</td>\n",
       "      <td>Northern Europe</td>\n",
       "      <td>NaN</td>\n",
       "      <td>150.0</td>\n",
       "      <td>154.0</td>\n",
       "      <td>NaN</td>\n",
       "    </tr>\n",
       "    <tr>\n",
       "      <th>2</th>\n",
       "      <td>Albania</td>\n",
       "      <td>AL</td>\n",
       "      <td>ALB</td>\n",
       "      <td>8</td>\n",
       "      <td>ISO 3166-2:AL</td>\n",
       "      <td>Europe</td>\n",
       "      <td>Southern Europe</td>\n",
       "      <td>NaN</td>\n",
       "      <td>150.0</td>\n",
       "      <td>39.0</td>\n",
       "      <td>NaN</td>\n",
       "    </tr>\n",
       "    <tr>\n",
       "      <th>3</th>\n",
       "      <td>Algeria</td>\n",
       "      <td>DZ</td>\n",
       "      <td>DZA</td>\n",
       "      <td>12</td>\n",
       "      <td>ISO 3166-2:DZ</td>\n",
       "      <td>Africa</td>\n",
       "      <td>Northern Africa</td>\n",
       "      <td>NaN</td>\n",
       "      <td>2.0</td>\n",
       "      <td>15.0</td>\n",
       "      <td>NaN</td>\n",
       "    </tr>\n",
       "    <tr>\n",
       "      <th>4</th>\n",
       "      <td>American Samoa</td>\n",
       "      <td>AS</td>\n",
       "      <td>ASM</td>\n",
       "      <td>16</td>\n",
       "      <td>ISO 3166-2:AS</td>\n",
       "      <td>Oceania</td>\n",
       "      <td>Polynesia</td>\n",
       "      <td>NaN</td>\n",
       "      <td>9.0</td>\n",
       "      <td>61.0</td>\n",
       "      <td>NaN</td>\n",
       "    </tr>\n",
       "  </tbody>\n",
       "</table>\n",
       "</div>"
      ],
      "text/plain": [
       "             name alpha-2 alpha-3  country-code     iso_3166-2   region  \\\n",
       "0     Afghanistan      AF     AFG             4  ISO 3166-2:AF     Asia   \n",
       "1   Åland Islands      AX     ALA           248  ISO 3166-2:AX   Europe   \n",
       "2         Albania      AL     ALB             8  ISO 3166-2:AL   Europe   \n",
       "3         Algeria      DZ     DZA            12  ISO 3166-2:DZ   Africa   \n",
       "4  American Samoa      AS     ASM            16  ISO 3166-2:AS  Oceania   \n",
       "\n",
       "        sub-region intermediate-region  region-code  sub-region-code  \\\n",
       "0    Southern Asia                 NaN        142.0             34.0   \n",
       "1  Northern Europe                 NaN        150.0            154.0   \n",
       "2  Southern Europe                 NaN        150.0             39.0   \n",
       "3  Northern Africa                 NaN          2.0             15.0   \n",
       "4        Polynesia                 NaN          9.0             61.0   \n",
       "\n",
       "   intermediate-region-code  \n",
       "0                       NaN  \n",
       "1                       NaN  \n",
       "2                       NaN  \n",
       "3                       NaN  \n",
       "4                       NaN  "
      ]
     },
     "execution_count": 27,
     "metadata": {},
     "output_type": "execute_result"
    }
   ],
   "source": [
    "# Display first 5 results\n",
    "country_mapping_df.head()"
   ]
  },
  {
   "cell_type": "markdown",
   "id": "81ab8f64",
   "metadata": {},
   "source": [
    "#### Some prior modifications"
   ]
  },
  {
   "cell_type": "code",
   "execution_count": 28,
   "id": "97ae83b6",
   "metadata": {},
   "outputs": [],
   "source": [
    "# Rename 'Destination' column to 'Destination (Country)'\n",
    "dataset.rename(columns={\"Destination\": \"Destination (Country)\"}, inplace=True)"
   ]
  },
  {
   "cell_type": "markdown",
   "id": "c8d57174",
   "metadata": {},
   "source": [
    "Since some of the country names are slightly different between the two datasets, little modifications on the names are made if necessary."
   ]
  },
  {
   "cell_type": "code",
   "execution_count": 29,
   "id": "b96c325d",
   "metadata": {},
   "outputs": [],
   "source": [
    "# Rename the countries' name to match with that in 'continents2.csv'\n",
    "dataset[\"Destination (Country)\"] = np.where(dataset[\"Destination (Country)\"] == \"VIET NAM\", \"VIETNAM\", \n",
    "                                    np.where(dataset[\"Destination (Country)\"] == \"TAIWAN, PROVINCE OF CHINA\", \"TAIWAN\", \n",
    "                                     np.where(dataset[\"Destination (Country)\"] == \"TANZANIA, UNITED REPUBLIC OF\", \"TANZANIA\", \n",
    "                                      np.where(dataset[\"Destination (Country)\"] == \"LAO PEOPLE'S DEMOCRATIC REPUBLIC\", \"LAOS\", \n",
    "                                       np.where(dataset[\"Destination (Country)\"] == \"RUSSIAN FEDERATION\", \"RUSSIA\", \n",
    "                                        np.where(dataset[\"Destination (Country)\"] == \"VIRGIN ISLANDS, U.S.\", \"VIRGIN ISLANDS (U.S.)\", \n",
    "                                         np.where(dataset[\"Destination (Country)\"] == \"MOLDOVA, REPUBLIC OF\", \"MOLDOVA\", \n",
    "                                          np.where(dataset[\"Destination (Country)\"] == \"REUNION\", \"RÉUNION\", \n",
    "                                           np.where(dataset[\"Destination (Country)\"] == \"MACEDONIA, THE FORMER YUGOSLAV REPUBLIC OF\", \"MACEDONIA\", \n",
    "                                            np.where(dataset[\"Destination (Country)\"] == \"LIBYAN ARAB JAMAHIRIYA\", \"LIBYA\", \n",
    "                                             np.where(dataset[\"Destination (Country)\"] == \"GUINEA-BISSAU\", \"GUINEA BISSAU\", \n",
    "                                              np.where(dataset[\"Destination (Country)\"] == \"IRAN, ISLAMIC REPUBLIC OF\", \"IRAN\", \n",
    "                                               np.where(dataset[\"Destination (Country)\"] == \"REPUBLIC OF MONTENEGRO\", \"MONTENEGRO\", \n",
    "                                                dataset[\"Destination (Country)\"])))))))))))))"
   ]
  },
  {
   "cell_type": "markdown",
   "id": "ccaea653",
   "metadata": {},
   "source": [
    "#### Mapping"
   ]
  },
  {
   "cell_type": "code",
   "execution_count": 30,
   "id": "0dc510f7",
   "metadata": {
    "scrolled": true
   },
   "outputs": [],
   "source": [
    "# Set up 'Destination (Sub-region)' column based on 'Destination (Country)' column\n",
    "for index, country in zip(dataset.index, dataset[\"Destination (Country)\"].values):\n",
    "    index2 = country_mapping_df[country_mapping_df[\"name\"].str.upper() == country].index[0]\n",
    "    dataset.at[index, \"Destination (Sub-region)\"] = country_mapping_df.iloc[index2][\"sub-region\"]\n",
    "    dataset.at[index, \"Destination (Region)\"] = country_mapping_df.iloc[index2][\"region\"]"
   ]
  },
  {
   "cell_type": "code",
   "execution_count": 31,
   "id": "4256212e",
   "metadata": {},
   "outputs": [
    {
     "data": {
      "text/plain": [
       "Destination (Sub-region)\n",
       "Australia and New Zealand           4178\n",
       "Central Asia                          34\n",
       "Eastern Asia                       11858\n",
       "Eastern Europe                       253\n",
       "Latin America and the Caribbean      251\n",
       "Melanesia                             31\n",
       "Micronesia                            11\n",
       "Northern Africa                       42\n",
       "Northern America                    2849\n",
       "Northern Europe                     1961\n",
       "Polynesia                              3\n",
       "South-eastern Asia                 32881\n",
       "Southern Asia                       2028\n",
       "Southern Europe                     1066\n",
       "Sub-Saharan Africa                   253\n",
       "Western Asia                         583\n",
       "Western Europe                      1729\n",
       "Name: Agency, dtype: int64"
      ]
     },
     "execution_count": 31,
     "metadata": {},
     "output_type": "execute_result"
    }
   ],
   "source": [
    "# Display the count of records for each type of 'Destination (Sub-region)'\n",
    "dataset.groupby([\"Destination (Sub-region)\"])[\"Agency\"].count()"
   ]
  },
  {
   "cell_type": "code",
   "execution_count": 32,
   "id": "e0335fe5",
   "metadata": {},
   "outputs": [
    {
     "data": {
      "text/plain": [
       "Destination (Region)\n",
       "Africa        295\n",
       "Americas     3100\n",
       "Asia        47384\n",
       "Europe       5009\n",
       "Oceania      4223\n",
       "Name: Agency, dtype: int64"
      ]
     },
     "execution_count": 32,
     "metadata": {},
     "output_type": "execute_result"
    }
   ],
   "source": [
    "# Display the count of records for each type of 'Destination (Region)'\n",
    "dataset.groupby([\"Destination (Region)\"])[\"Agency\"].count()"
   ]
  },
  {
   "cell_type": "markdown",
   "id": "f7e4309c",
   "metadata": {},
   "source": [
    "`Destination (Sub-region)` seems to have a good amount of subsets which we can use in our modeling.<br>\n",
    "`Destination (Region)` is nice too in terms of visualisation."
   ]
  },
  {
   "cell_type": "markdown",
   "id": "6734a756",
   "metadata": {},
   "source": [
    "### Export Updated Data"
   ]
  },
  {
   "cell_type": "markdown",
   "id": "366047db",
   "metadata": {},
   "source": [
    "Some further transformations are made before exporting the cleaned dataset."
   ]
  },
  {
   "cell_type": "code",
   "execution_count": 33,
   "id": "ec1fea92",
   "metadata": {},
   "outputs": [],
   "source": [
    "# Rename 'Duration' column to 'Coverage Period (days)'\n",
    "dataset.rename(columns={\"Duration\": \"Coverage Period (Days)\", \"Duration Group\": \"Coverage Period Group\"}, inplace=True)"
   ]
  },
  {
   "cell_type": "code",
   "execution_count": 34,
   "id": "8f859aa1",
   "metadata": {},
   "outputs": [],
   "source": [
    "# Capitalize all country name in 'Destination (Country)' column\n",
    "dataset[\"Destination (Country)\"] = dataset[\"Destination (Country)\"].str.title()"
   ]
  },
  {
   "cell_type": "code",
   "execution_count": 35,
   "id": "32485643",
   "metadata": {},
   "outputs": [
    {
     "data": {
      "text/plain": [
       "Product Name\n",
       "1 way Comprehensive Plan                3323\n",
       "2 way Comprehensive Plan               13077\n",
       "24 Protect                               244\n",
       "Basic Plan                              5411\n",
       "Bronze Plan                             4005\n",
       "Cancellation Plan                      18592\n",
       "Comprehensive Plan                       304\n",
       "Gold Plan                                331\n",
       "Premier Plan                             189\n",
       "Rental Vehicle Excess Insurance         8480\n",
       "Silver Plan                             2200\n",
       "Single Trip Travel Protect Gold          203\n",
       "Single Trip Travel Protect Platinum       73\n",
       "Single Trip Travel Protect Silver        172\n",
       "Ticket Protector                        1015\n",
       "Travel Cruise Protect                    518\n",
       "Travel Cruise Protect Family               1\n",
       "Value Plan                              1873\n",
       "Name: Product Name, dtype: int64"
      ]
     },
     "execution_count": 35,
     "metadata": {},
     "output_type": "execute_result"
    }
   ],
   "source": [
    "# Found anomaly\n",
    "dataset.groupby(\"Product Name\")[\"Product Name\"].count()"
   ]
  },
  {
   "cell_type": "markdown",
   "id": "c343cb6f",
   "metadata": {},
   "source": [
    "We notice that there 518 `Travel Cruise Protect` and 1 `Travel Cruise Protect Family` products in which we believe that `Travel Cruise Protect Family` is incorrectly inserted."
   ]
  },
  {
   "cell_type": "code",
   "execution_count": 36,
   "id": "4e684bf9",
   "metadata": {},
   "outputs": [],
   "source": [
    "# Remove the word 'Family' from 'Travel Cruise Protect Family' data\n",
    "dataset[\"Product Name\"] = np.where(dataset[\"Product Name\"] == \"Travel Cruise Protect Family\", \"Travel Cruise Protect\", dataset[\"Product Name\"])"
   ]
  },
  {
   "cell_type": "markdown",
   "id": "b4400a18",
   "metadata": {},
   "source": [
    "These arrangement and sorting are essential to make the dataset exported looks nice and neat."
   ]
  },
  {
   "cell_type": "code",
   "execution_count": 37,
   "id": "f5c22833",
   "metadata": {},
   "outputs": [],
   "source": [
    "# Arrange the columns\n",
    "dataset = dataset[[\"Agency\", \"Agency Type\", \"Product Name\", \"Distribution Channel\", \"Destination (Country)\", \n",
    "                   \"Destination (Sub-region)\", \"Destination (Region)\", \"Coverage Period (Days)\", \"Coverage Period Group\", \n",
    "                   \"Net Sales\", \"Commission\", \"Commission Rate\", \"Age\", \"Age Group\", \"Gender\", \"Claim\"]]"
   ]
  },
  {
   "cell_type": "code",
   "execution_count": 38,
   "id": "782ce0bd",
   "metadata": {},
   "outputs": [],
   "source": [
    "# Sort the rows based on 'Agency', 'Product Name' and 'Distribution Channel'\n",
    "dataset.sort_values(by=[\"Agency\", \"Product Name\", \"Distribution Channel\"], inplace=True)\n",
    "dataset.reset_index(drop=True, inplace=True)"
   ]
  },
  {
   "cell_type": "code",
   "execution_count": 39,
   "id": "aec0871f",
   "metadata": {},
   "outputs": [],
   "source": [
    "# Export the dataset\n",
    "dataset.to_excel(r\"C:\\Users\\ASUS\\MASA_Hackathon\\[MASA Hackathon 2022] Travel Insurance Data Set (Cleaned).xlsx\", \n",
    "                        sheet_name=\"Cleaned Data Set\", index=False)"
   ]
  },
  {
   "cell_type": "markdown",
   "id": "6c40626e",
   "metadata": {},
   "source": [
    "This dataset is clean enough and will be used in data visualisation and analysis for the other sections."
   ]
  },
  {
   "cell_type": "markdown",
   "id": "eaadb96b",
   "metadata": {},
   "source": [
    "## Type of Feature Selection"
   ]
  },
  {
   "cell_type": "markdown",
   "id": "be12abaf",
   "metadata": {},
   "source": [
    "### Logical Reasoning"
   ]
  },
  {
   "cell_type": "markdown",
   "id": "1d03eee9",
   "metadata": {},
   "source": [
    "We acknowledge that there are some algorithms that will find out the best features for certain problem statement. However, since the columns are limited and easy to understand, we will perform feature selection manually."
   ]
  },
  {
   "cell_type": "markdown",
   "id": "6629820a",
   "metadata": {},
   "source": [
    "**Revisit of Problem Statement**<br>\n",
    "Our travel insurance products were not generating as much revenue and profit as we first forecasted. With enhanced marketing strategies, we believe that we can reach out to more potential customers and persuade them to purchase our products, generating greater profits. Therefore, Your Unique Holiday Us is seeking a new and improved sales strategy to increase the sales of our travel insurance products. We are expecting a customer-centric solution where the customer’s acquisition/sales funnel for those products will be personalised based on the demographic of respective target customers. The solution would not only be able to increase the awareness on the importance of getting oneself insured before travelling but also ensure that people are not paying for more than what they need.<br>\n",
    "\n",
    "**Revisit of How might we?**<br>\n",
    "To achieve our goal, we will compile the sales data of our products and analyse them to find the behaviours and travel habits of our customers. This will help us to define the attributes that can influence a traveller’s decision when purchasing travel insurance. Finally, we will use the data insights to generate coherent and intelligent business proposals. These proposals will focus on enhancing target marketing, forecasting sales and improving less-profiting products to better suit the needs of our potential customers while reducing the budget on less-profiting sales channels.\n"
   ]
  },
  {
   "cell_type": "markdown",
   "id": "9de075f1",
   "metadata": {},
   "source": [
    "It is obvious that our main focus of modeling is to predict the `Product Name` that will be advertised to the potential customers.<br>\n",
    "Therefore, our labeled data will be `Product Name` column."
   ]
  },
  {
   "cell_type": "code",
   "execution_count": 40,
   "id": "685c14af",
   "metadata": {},
   "outputs": [
    {
     "data": {
      "text/plain": [
       "Index(['Agency', 'Agency Type', 'Product Name', 'Distribution Channel',\n",
       "       'Destination (Country)', 'Destination (Sub-region)',\n",
       "       'Destination (Region)', 'Coverage Period (Days)',\n",
       "       'Coverage Period Group', 'Net Sales', 'Commission', 'Commission Rate',\n",
       "       'Age', 'Age Group', 'Gender', 'Claim'],\n",
       "      dtype='object')"
      ]
     },
     "execution_count": 40,
     "metadata": {},
     "output_type": "execute_result"
    }
   ],
   "source": [
    "dataset.columns"
   ]
  },
  {
   "cell_type": "markdown",
   "id": "a9198ca8",
   "metadata": {},
   "source": [
    "Features that are not used:\n",
    "- Since `Agency`, `Agency Type` and `Distribution Channel` are more towards the agency side instead of the customer side, they will not be considered in our model.\n",
    "- `Net Sales`, `Commission` and `Commission Rate` are ignored since they are closely related to the products instead of the customers.\n",
    "- `Gender` is not considered due to the lacking of information when collecting the data.\n",
    "- `Claim` is not related to our problem statement as we are focusing on marketing."
   ]
  },
  {
   "cell_type": "markdown",
   "id": "f07b409e",
   "metadata": {},
   "source": [
    "Features that are used:\n",
    "- Among the `Destination` columns, `Destination (Sub-region)` will be used since there are a healthy amount of subsets.\n",
    "- `Coverage Period Group` instead of `Coverage Period (Days)` is used to reduce the number of unique values so that the data in each group will be sufficient for machine learning purpose.\n",
    "- `Age Group` will be used for the same reason too."
   ]
  },
  {
   "cell_type": "markdown",
   "id": "dad4f441",
   "metadata": {},
   "source": [
    "It is worth noting that these features are closely related to the customers and can be obtained pretty easily (all of our information are one click away).<br>\n",
    "For instance, the potential customer will keep on searching on the places of the country he or she will visit very soon."
   ]
  },
  {
   "cell_type": "markdown",
   "id": "eddba592",
   "metadata": {},
   "source": [
    "**Summary**:<br>\n",
    "Feature: `Age Group`, `Destination (Sub-region)`, `Coverage Period Group`<br>\n",
    "Label: `Product Name`"
   ]
  },
  {
   "cell_type": "markdown",
   "id": "4812f21a",
   "metadata": {},
   "source": [
    "### ChiSquared Test"
   ]
  },
  {
   "cell_type": "markdown",
   "id": "446b79b5",
   "metadata": {},
   "source": [
    "Since our problem statement is about developing a personalized sales funnel for each potential customer, we wish to build a model that can predict customer's needs and which products they will be more interested in based on a few features:\n",
    "\n",
    "1) `Age`: selected as this is one of the data that are available out there<br>\n",
    "2) `Destination (Sub-region)`: based on their most recent interests / searches<br>\n",
    "3) `Coverage Period Group`: based on their past traveling habit<br>\n",
    "\n",
    "**Null hypothesis**: There is no relationship between selected variables and product<br>\n",
    "**Alternative hypothesis**: There is a relationship between selected variables and product"
   ]
  },
  {
   "cell_type": "code",
   "execution_count": 41,
   "id": "9d0405de",
   "metadata": {},
   "outputs": [],
   "source": [
    "# Creating a labelEncoder for categorical variables\n",
    "from sklearn.preprocessing import LabelEncoder\n",
    "\n",
    "# Create the function to fit and transform the label encoder\n",
    "def label_encode_columns(df, columns):\n",
    "    encoders = {}\n",
    "    for col in columns:\n",
    "        le = LabelEncoder().fit(df[col])\n",
    "        df[col] = le.transform(df[col])\n",
    "        encoders[col] = le\n",
    "    return df, encoders\n",
    "\n",
    "# Define the columns we want to encode\n",
    "encode_columns = [\"Product Name\", \"Destination (Sub-region)\", \"Coverage Period Group\", \"Age Group\"]\n",
    "\n",
    "#Fit and transform the training dataset, returing both the new training dataset and the fitted encoders to use on the scoring dataset\n",
    "dataset_copy = dataset.copy()\n",
    "dataset_copy, encoders = label_encode_columns(df=dataset_copy, columns=encode_columns)"
   ]
  },
  {
   "cell_type": "code",
   "execution_count": 42,
   "id": "268407c0",
   "metadata": {},
   "outputs": [],
   "source": [
    "# Perform train test split to avoid overfitting\n",
    "from sklearn.model_selection import train_test_split\n",
    "\n",
    "X_train, X_test, y_train, y_test = train_test_split(dataset_copy[[\"Age Group\", \"Destination (Sub-region)\", \"Coverage Period Group\"]], \n",
    "                                                    dataset_copy['Product Name'], test_size=0.33, random_state=42)"
   ]
  },
  {
   "cell_type": "code",
   "execution_count": 43,
   "id": "ed0091e2",
   "metadata": {},
   "outputs": [
    {
     "data": {
      "text/html": [
       "<div>\n",
       "<style scoped>\n",
       "    .dataframe tbody tr th:only-of-type {\n",
       "        vertical-align: middle;\n",
       "    }\n",
       "\n",
       "    .dataframe tbody tr th {\n",
       "        vertical-align: top;\n",
       "    }\n",
       "\n",
       "    .dataframe thead th {\n",
       "        text-align: right;\n",
       "    }\n",
       "</style>\n",
       "<table border=\"1\" class=\"dataframe\">\n",
       "  <thead>\n",
       "    <tr style=\"text-align: right;\">\n",
       "      <th></th>\n",
       "      <th>Age Group</th>\n",
       "      <th>Destination (Sub-region)</th>\n",
       "      <th>Coverage Period Group</th>\n",
       "    </tr>\n",
       "  </thead>\n",
       "  <tbody>\n",
       "    <tr>\n",
       "      <th>44917</th>\n",
       "      <td>5</td>\n",
       "      <td>8</td>\n",
       "      <td>24</td>\n",
       "    </tr>\n",
       "    <tr>\n",
       "      <th>42171</th>\n",
       "      <td>3</td>\n",
       "      <td>2</td>\n",
       "      <td>7</td>\n",
       "    </tr>\n",
       "    <tr>\n",
       "      <th>56182</th>\n",
       "      <td>4</td>\n",
       "      <td>16</td>\n",
       "      <td>36</td>\n",
       "    </tr>\n",
       "    <tr>\n",
       "      <th>7098</th>\n",
       "      <td>6</td>\n",
       "      <td>11</td>\n",
       "      <td>45</td>\n",
       "    </tr>\n",
       "    <tr>\n",
       "      <th>2602</th>\n",
       "      <td>2</td>\n",
       "      <td>11</td>\n",
       "      <td>38</td>\n",
       "    </tr>\n",
       "  </tbody>\n",
       "</table>\n",
       "</div>"
      ],
      "text/plain": [
       "       Age Group  Destination (Sub-region)  Coverage Period Group\n",
       "44917          5                         8                     24\n",
       "42171          3                         2                      7\n",
       "56182          4                        16                     36\n",
       "7098           6                        11                     45\n",
       "2602           2                        11                     38"
      ]
     },
     "execution_count": 43,
     "metadata": {},
     "output_type": "execute_result"
    }
   ],
   "source": [
    "# Display the first 5 records for X_train\n",
    "X_train.head()"
   ]
  },
  {
   "cell_type": "code",
   "execution_count": 44,
   "id": "a1c04f9b",
   "metadata": {},
   "outputs": [],
   "source": [
    "# Perform chi2 test\n",
    "from sklearn.feature_selection import chi2\n",
    "\n",
    "f_p_values = chi2(X_train, y_train)"
   ]
  },
  {
   "cell_type": "code",
   "execution_count": 45,
   "id": "22d6cc59",
   "metadata": {},
   "outputs": [
    {
     "data": {
      "text/plain": [
       "Age Group                   5.044484e-246\n",
       "Destination (Sub-region)     0.000000e+00\n",
       "Coverage Period Group       4.488031e-172\n",
       "dtype: float64"
      ]
     },
     "execution_count": 45,
     "metadata": {},
     "output_type": "execute_result"
    }
   ],
   "source": [
    "# Obtain the p-values\n",
    "p_values = pd.Series(f_p_values[1])\n",
    "p_values.index = X_train.columns\n",
    "p_values"
   ]
  },
  {
   "cell_type": "markdown",
   "id": "e0f11df3",
   "metadata": {},
   "source": [
    "The p-value is statistically significant.<br>\n",
    "We have a **very strong evidence against** the null hypothesis.<br>\n",
    "Hence, there are relationships between `Age Group`, `Destination (Sub-region)` and `Coverage Period Group` with `Product Name`."
   ]
  },
  {
   "cell_type": "markdown",
   "id": "9e9446fe",
   "metadata": {},
   "source": [
    "# Sprint 2: Exploratory Data Analysis using MS Power BI/ Python (matplotlib/seaborn)"
   ]
  },
  {
   "cell_type": "markdown",
   "id": "b0fbb6a6",
   "metadata": {},
   "source": [
    "This section is put after **Sprint 3** so that we can use the cleaned dataset.<br>\n",
    "Most of the information are in **PowerBI**.<br>\n",
    "These are not considered charts but to make the findings more concrete."
   ]
  },
  {
   "cell_type": "markdown",
   "id": "1f728350",
   "metadata": {},
   "source": [
    "Old dataset is imported to show the comparison before and after cleaning of data."
   ]
  },
  {
   "cell_type": "code",
   "execution_count": 46,
   "id": "f80b856f",
   "metadata": {},
   "outputs": [],
   "source": [
    "# Read the dataset\n",
    "dataset_old = pd.read_excel(r\"C:\\Users\\ASUS\\MASA_Hackathon\\[MASA Hackathon 2022] Travel Insurance Data Set .xlsx\", \n",
    "                            sheet_name=\"Travel Insurance Data Set\")"
   ]
  },
  {
   "cell_type": "markdown",
   "id": "189cd259",
   "metadata": {},
   "source": [
    "## Data Distribution and Density Plots"
   ]
  },
  {
   "cell_type": "markdown",
   "id": "90cc044b",
   "metadata": {},
   "source": [
    "We will first use `displot` to get the distribution on the uncleaned and cleaned data."
   ]
  },
  {
   "cell_type": "markdown",
   "id": "c8c2d69c",
   "metadata": {},
   "source": [
    "The left side graphs and drawn using uncleaned data while those on right side are cleaned data."
   ]
  },
  {
   "cell_type": "code",
   "execution_count": 47,
   "id": "9303c71a",
   "metadata": {},
   "outputs": [
    {
     "data": {
      "image/png": "[encoded data removed]",
      "text/plain": [
       "<Figure size 1080x1440 with 8 Axes>"
      ]
     },
     "metadata": {
      "needs_background": "light"
     },
     "output_type": "display_data"
    }
   ],
   "source": [
    "# To compare distribution using distplot\n",
    "plt.figure(1, figsize=(15, 20))\n",
    "\n",
    "n = 0\n",
    "for x in [\"Duration\", \"Coverage Period (Days)\", \"Net Sales\", \"Net Sales\", \"Commision (in value)\", \"Commission\", \"Age\", \"Age\"]:\n",
    "    n += 1\n",
    "    plt.subplot(4, 2, n)\n",
    "    plt.subplots_adjust(hspace=0.5, wspace=0.5)\n",
    "    \n",
    "    if(n % 2 == 1):\n",
    "        sns.distplot(dataset_old[x], bins=20)\n",
    "        plt.title(\"Distplot of {} [Uncleaned]\".format(x))\n",
    "    elif(n % 2 == 0):\n",
    "        sns.distplot(dataset[x], bins=20)\n",
    "        plt.title(\"Distplot of {} [Cleaned]\".format(x))\n",
    "\n",
    "plt.show()"
   ]
  },
  {
   "cell_type": "markdown",
   "id": "8eea35e3",
   "metadata": {},
   "source": [
    "All of the plots show right skewness.<br>\n",
    "However, the cleaned data shows a more symmetry distribution.<br>\n",
    "This implies that the **Outlier Analysis** did well and the cleaned dataset will be used in later stage."
   ]
  },
  {
   "cell_type": "code",
   "execution_count": 48,
   "id": "3f80ef1b",
   "metadata": {},
   "outputs": [
    {
     "data": {
      "image/png": "[encoded data removed]",
      "text/plain": [
       "<Figure size 1080x1440 with 8 Axes>"
      ]
     },
     "metadata": {
      "needs_background": "light"
     },
     "output_type": "display_data"
    }
   ],
   "source": [
    "# Violin plot (further breakdown by Agency Type)\n",
    "plt.figure(1, figsize = (15, 20))\n",
    "sns.set(style = \"whitegrid\")\n",
    "\n",
    "n = 0\n",
    "for cols in [\"Duration\", \"Coverage Period (Days)\", \"Net Sales\", \"Net Sales\", \"Commision (in value)\", \"Commission\", \"Age\", \"Age\"]:\n",
    "    n += 1\n",
    "    plt.subplot(4, 2, n)\n",
    "    plt.subplots_adjust(hspace=0.5, wspace=0.5)\n",
    "    \n",
    "    if(n % 2 == 1):\n",
    "        sns.violinplot(x=dataset_old[cols], y=\"Agency Type\", data=dataset_old)\n",
    "        plt.title(\"Violin Plot of {} [Uncleaned]\".format(x))\n",
    "        plt.ylabel('Agency Type')\n",
    "    elif(n % 2 == 0):\n",
    "        sns.violinplot(x=dataset[cols], y=\"Agency Type\", data=dataset)\n",
    "        plt.title(\"Violin Plot of {} [Cleaned]\".format(x))\n",
    "    \n",
    "plt.show()"
   ]
  },
  {
   "cell_type": "markdown",
   "id": "753735ff",
   "metadata": {},
   "source": [
    "- Not much difference in terms of `Coverage Period` and `Net Sales`.\n",
    "- It is noticeable that **Travel Agency** tends to pay less in `Commission` (less expense) compared with **Airlines**. \n",
    "- Plans from **Airlines** seem to be more family-friendly since it is evenly distributed across all `Age`s. On the other hand, `Travel Agency` targets more on travellers at their 30s."
   ]
  },
  {
   "cell_type": "markdown",
   "id": "15298d52",
   "metadata": {},
   "source": [
    "## Anomaly Behaviour/ Patterns"
   ]
  },
  {
   "cell_type": "markdown",
   "id": "e1e19c97",
   "metadata": {},
   "source": [
    "While doing some visualisation in PowerBI, we notice that there are some records with 0 `Net Sales` but positive `Commission`.<br>\n",
    "We will further inspect into all the records with `Net Sales` less than `Commission`."
   ]
  },
  {
   "cell_type": "markdown",
   "id": "a4e457aa",
   "metadata": {},
   "source": [
    "First, we find all the important summary for these data."
   ]
  },
  {
   "cell_type": "code",
   "execution_count": 49,
   "id": "7ff02225",
   "metadata": {},
   "outputs": [
    {
     "data": {
      "text/html": [
       "<div>\n",
       "<style scoped>\n",
       "    .dataframe tbody tr th:only-of-type {\n",
       "        vertical-align: middle;\n",
       "    }\n",
       "\n",
       "    .dataframe tbody tr th {\n",
       "        vertical-align: top;\n",
       "    }\n",
       "\n",
       "    .dataframe thead th {\n",
       "        text-align: right;\n",
       "    }\n",
       "</style>\n",
       "<table border=\"1\" class=\"dataframe\">\n",
       "  <thead>\n",
       "    <tr style=\"text-align: right;\">\n",
       "      <th></th>\n",
       "      <th>Coverage Period (Days)</th>\n",
       "      <th>Net Sales</th>\n",
       "      <th>Commission</th>\n",
       "      <th>Commission Rate</th>\n",
       "      <th>Age</th>\n",
       "    </tr>\n",
       "  </thead>\n",
       "  <tbody>\n",
       "    <tr>\n",
       "      <th>count</th>\n",
       "      <td>1280.000000</td>\n",
       "      <td>1280.0</td>\n",
       "      <td>1280.000000</td>\n",
       "      <td>1280.0</td>\n",
       "      <td>1280.000000</td>\n",
       "    </tr>\n",
       "    <tr>\n",
       "      <th>mean</th>\n",
       "      <td>40.876562</td>\n",
       "      <td>0.0</td>\n",
       "      <td>26.778961</td>\n",
       "      <td>inf</td>\n",
       "      <td>39.125781</td>\n",
       "    </tr>\n",
       "    <tr>\n",
       "      <th>std</th>\n",
       "      <td>47.507511</td>\n",
       "      <td>0.0</td>\n",
       "      <td>21.807952</td>\n",
       "      <td>NaN</td>\n",
       "      <td>11.633535</td>\n",
       "    </tr>\n",
       "    <tr>\n",
       "      <th>min</th>\n",
       "      <td>0.000000</td>\n",
       "      <td>0.0</td>\n",
       "      <td>1.080000</td>\n",
       "      <td>inf</td>\n",
       "      <td>14.000000</td>\n",
       "    </tr>\n",
       "    <tr>\n",
       "      <th>25%</th>\n",
       "      <td>10.000000</td>\n",
       "      <td>0.0</td>\n",
       "      <td>11.880000</td>\n",
       "      <td>NaN</td>\n",
       "      <td>31.000000</td>\n",
       "    </tr>\n",
       "    <tr>\n",
       "      <th>50%</th>\n",
       "      <td>21.000000</td>\n",
       "      <td>0.0</td>\n",
       "      <td>17.820000</td>\n",
       "      <td>NaN</td>\n",
       "      <td>35.000000</td>\n",
       "    </tr>\n",
       "    <tr>\n",
       "      <th>75%</th>\n",
       "      <td>51.250000</td>\n",
       "      <td>0.0</td>\n",
       "      <td>35.640000</td>\n",
       "      <td>NaN</td>\n",
       "      <td>47.000000</td>\n",
       "    </tr>\n",
       "    <tr>\n",
       "      <th>max</th>\n",
       "      <td>296.000000</td>\n",
       "      <td>0.0</td>\n",
       "      <td>166.320000</td>\n",
       "      <td>inf</td>\n",
       "      <td>80.000000</td>\n",
       "    </tr>\n",
       "  </tbody>\n",
       "</table>\n",
       "</div>"
      ],
      "text/plain": [
       "       Coverage Period (Days)  Net Sales   Commission  Commission Rate  \\\n",
       "count             1280.000000     1280.0  1280.000000           1280.0   \n",
       "mean                40.876562        0.0    26.778961              inf   \n",
       "std                 47.507511        0.0    21.807952              NaN   \n",
       "min                  0.000000        0.0     1.080000              inf   \n",
       "25%                 10.000000        0.0    11.880000              NaN   \n",
       "50%                 21.000000        0.0    17.820000              NaN   \n",
       "75%                 51.250000        0.0    35.640000              NaN   \n",
       "max                296.000000        0.0   166.320000              inf   \n",
       "\n",
       "               Age  \n",
       "count  1280.000000  \n",
       "mean     39.125781  \n",
       "std      11.633535  \n",
       "min      14.000000  \n",
       "25%      31.000000  \n",
       "50%      35.000000  \n",
       "75%      47.000000  \n",
       "max      80.000000  "
      ]
     },
     "execution_count": 49,
     "metadata": {},
     "output_type": "execute_result"
    }
   ],
   "source": [
    "# Describe all the records with Net Sales < Commission\n",
    "dataset[dataset[\"Net Sales\"] < dataset[\"Commission\"]].describe()"
   ]
  },
  {
   "cell_type": "markdown",
   "id": "d85f31da",
   "metadata": {},
   "source": [
    "The records are all having `Net Sales == 0`.<br>\n",
    "This means that the data with `Net Sales != 0` are perfectly fine in terms of having sufficient `Net Sales` to pay `Commission`."
   ]
  },
  {
   "cell_type": "markdown",
   "id": "fb8de63e",
   "metadata": {},
   "source": [
    "One of the possible explanation is that the insured is not paying his or her premium but the agency still need to pay the commission fee to its employees."
   ]
  },
  {
   "cell_type": "code",
   "execution_count": 50,
   "id": "d9613b97",
   "metadata": {},
   "outputs": [
    {
     "data": {
      "text/plain": [
       "array(['No'], dtype=object)"
      ]
     },
     "execution_count": 50,
     "metadata": {},
     "output_type": "execute_result"
    }
   ],
   "source": [
    "# Check the Claim situation for these data\n",
    "dataset[dataset[\"Net Sales\"] < dataset[\"Commission\"]][\"Claim\"].unique()"
   ]
  },
  {
   "cell_type": "markdown",
   "id": "83edb4e3",
   "metadata": {},
   "source": [
    "This makes tons of sense since the insured cannot make claim without paying premium."
   ]
  },
  {
   "cell_type": "code",
   "execution_count": 51,
   "id": "4ca860a6",
   "metadata": {},
   "outputs": [
    {
     "data": {
      "text/html": [
       "<div>\n",
       "<style scoped>\n",
       "    .dataframe tbody tr th:only-of-type {\n",
       "        vertical-align: middle;\n",
       "    }\n",
       "\n",
       "    .dataframe tbody tr th {\n",
       "        vertical-align: top;\n",
       "    }\n",
       "\n",
       "    .dataframe thead th {\n",
       "        text-align: right;\n",
       "    }\n",
       "</style>\n",
       "<table border=\"1\" class=\"dataframe\">\n",
       "  <thead>\n",
       "    <tr style=\"text-align: right;\">\n",
       "      <th></th>\n",
       "      <th>Count</th>\n",
       "      <th>Proportion</th>\n",
       "    </tr>\n",
       "    <tr>\n",
       "      <th>Agency</th>\n",
       "      <th></th>\n",
       "      <th></th>\n",
       "    </tr>\n",
       "  </thead>\n",
       "  <tbody>\n",
       "    <tr>\n",
       "      <th>ADM</th>\n",
       "      <td>13</td>\n",
       "      <td>0.164557</td>\n",
       "    </tr>\n",
       "    <tr>\n",
       "      <th>CWT</th>\n",
       "      <td>992</td>\n",
       "      <td>0.116981</td>\n",
       "    </tr>\n",
       "    <tr>\n",
       "      <th>CBH</th>\n",
       "      <td>4</td>\n",
       "      <td>0.040404</td>\n",
       "    </tr>\n",
       "    <tr>\n",
       "      <th>LWC</th>\n",
       "      <td>16</td>\n",
       "      <td>0.035714</td>\n",
       "    </tr>\n",
       "    <tr>\n",
       "      <th>ART</th>\n",
       "      <td>8</td>\n",
       "      <td>0.029520</td>\n",
       "    </tr>\n",
       "    <tr>\n",
       "      <th>CCR</th>\n",
       "      <td>3</td>\n",
       "      <td>0.021429</td>\n",
       "    </tr>\n",
       "    <tr>\n",
       "      <th>JZI</th>\n",
       "      <td>118</td>\n",
       "      <td>0.018919</td>\n",
       "    </tr>\n",
       "    <tr>\n",
       "      <th>C2B</th>\n",
       "      <td>111</td>\n",
       "      <td>0.016983</td>\n",
       "    </tr>\n",
       "    <tr>\n",
       "      <th>TST</th>\n",
       "      <td>6</td>\n",
       "      <td>0.011561</td>\n",
       "    </tr>\n",
       "    <tr>\n",
       "      <th>RAB</th>\n",
       "      <td>8</td>\n",
       "      <td>0.011065</td>\n",
       "    </tr>\n",
       "    <tr>\n",
       "      <th>KML</th>\n",
       "      <td>1</td>\n",
       "      <td>0.002551</td>\n",
       "    </tr>\n",
       "    <tr>\n",
       "      <th>CSR</th>\n",
       "      <td>0</td>\n",
       "      <td>0.000000</td>\n",
       "    </tr>\n",
       "    <tr>\n",
       "      <th>EPX</th>\n",
       "      <td>0</td>\n",
       "      <td>0.000000</td>\n",
       "    </tr>\n",
       "    <tr>\n",
       "      <th>SSI</th>\n",
       "      <td>0</td>\n",
       "      <td>0.000000</td>\n",
       "    </tr>\n",
       "  </tbody>\n",
       "</table>\n",
       "</div>"
      ],
      "text/plain": [
       "        Count  Proportion\n",
       "Agency                   \n",
       "ADM        13    0.164557\n",
       "CWT       992    0.116981\n",
       "CBH         4    0.040404\n",
       "LWC        16    0.035714\n",
       "ART         8    0.029520\n",
       "CCR         3    0.021429\n",
       "JZI       118    0.018919\n",
       "C2B       111    0.016983\n",
       "TST         6    0.011561\n",
       "RAB         8    0.011065\n",
       "KML         1    0.002551\n",
       "CSR         0    0.000000\n",
       "EPX         0    0.000000\n",
       "SSI         0    0.000000"
      ]
     },
     "execution_count": 51,
     "metadata": {},
     "output_type": "execute_result"
    }
   ],
   "source": [
    "# Count of insurance premium that are failed to collect from insured\n",
    "count = dataset[dataset[\"Net Sales\"] < dataset[\"Commission\"]].groupby(\"Agency\")[\"Agency\"].count()\n",
    "\n",
    "# Proportion of insurance premium that are failed to collect from insured\n",
    "proportion = (dataset[dataset[\"Net Sales\"] < dataset[\"Commission\"]].groupby(\"Agency\")[\"Agency\"].count() / dataset.groupby([\"Agency\"])[\"Agency\"].count())\n",
    "\n",
    "# Concatenation of both Series\n",
    "fail_to_collect = pd.concat({\"Count\": count, \"Proportion\": proportion}, axis=1).sort_values(by=\"Proportion\", ascending=False).fillna(0)\n",
    "fail_to_collect[\"Count\"] = fail_to_collect[\"Count\"].convert_dtypes(\"int64\")\n",
    "fail_to_collect"
   ]
  },
  {
   "cell_type": "markdown",
   "id": "8f6a0882",
   "metadata": {},
   "source": [
    "- **CWT** and **ADM** are doing poorly in terms of collecting the premium from the insured.\n",
    "- Inspection are required for the people and system that are responsible for collecting the premiums.\n",
    "- Training for the people and upgrade of the system are essential to prevent further losses from these products."
   ]
  },
  {
   "cell_type": "markdown",
   "id": "10293381",
   "metadata": {},
   "source": [
    "## Statistical Test & Description"
   ]
  },
  {
   "cell_type": "markdown",
   "id": "96d5e8e3",
   "metadata": {},
   "source": [
    "### Chi-Squared Test"
   ]
  },
  {
   "cell_type": "markdown",
   "id": "6c33b49b",
   "metadata": {},
   "source": [
    "***Assumptions:***\n",
    "- Both variables are categorical\n",
    "- All observations are independent\n",
    "- Cells in the contingency table are mutually exclusive\n",
    "- Expected value of cells should be 5 or greater in at least 80% of cells\n",
    "\n",
    "Null Hypothesis: There is no relationship between two categorical values.<br>\n",
    "Alternate Hypothesis: There is a relationship between two categorical values.\n",
    "\n",
    "- `Agency Type` vs `Distribution Channel`\n",
    "- `Agency Type` vs `Claim`\n",
    "- `Distribution Channel` vs `Claim`"
   ]
  },
  {
   "cell_type": "markdown",
   "id": "f5b7da49",
   "metadata": {},
   "source": [
    "#### Agency Type vs Distribution Channel"
   ]
  },
  {
   "cell_type": "code",
   "execution_count": 52,
   "id": "ad6be877",
   "metadata": {},
   "outputs": [
    {
     "data": {
      "image/png": "[encoded data removed]",
      "text/plain": [
       "<Figure size 1152x576 with 1 Axes>"
      ]
     },
     "metadata": {},
     "output_type": "display_data"
    }
   ],
   "source": [
    "# Create subplots\n",
    "fig, ax = plt.subplots(figsize=(16,8))\n",
    "ax = sns.countplot(x=\"Agency Type\", hue=\"Distribution Channel\", data=dataset)\n",
    "\n",
    "# Create the proportion label\n",
    "for p in ax.patches:\n",
    "    height = p.get_height()\n",
    "    ax.text(p.get_x() + p.get_width() / 2.,\n",
    "            height + 3,\n",
    "            \"{:1.2f}\".format(height / dataset.shape[0]),\n",
    "            ha='center')"
   ]
  },
  {
   "cell_type": "code",
   "execution_count": 53,
   "id": "1b2932b4",
   "metadata": {},
   "outputs": [
    {
     "data": {
      "text/html": [
       "<div>\n",
       "<style scoped>\n",
       "    .dataframe tbody tr th:only-of-type {\n",
       "        vertical-align: middle;\n",
       "    }\n",
       "\n",
       "    .dataframe tbody tr th {\n",
       "        vertical-align: top;\n",
       "    }\n",
       "\n",
       "    .dataframe thead th {\n",
       "        text-align: right;\n",
       "    }\n",
       "</style>\n",
       "<table border=\"1\" class=\"dataframe\">\n",
       "  <thead>\n",
       "    <tr style=\"text-align: right;\">\n",
       "      <th>Distribution Channel</th>\n",
       "      <th>Offline</th>\n",
       "      <th>Online</th>\n",
       "    </tr>\n",
       "    <tr>\n",
       "      <th>Agency Type</th>\n",
       "      <th></th>\n",
       "      <th></th>\n",
       "    </tr>\n",
       "  </thead>\n",
       "  <tbody>\n",
       "    <tr>\n",
       "      <th>Airlines</th>\n",
       "      <td>6</td>\n",
       "      <td>14776</td>\n",
       "    </tr>\n",
       "    <tr>\n",
       "      <th>Travel Agency</th>\n",
       "      <td>876</td>\n",
       "      <td>44353</td>\n",
       "    </tr>\n",
       "  </tbody>\n",
       "</table>\n",
       "</div>"
      ],
      "text/plain": [
       "Distribution Channel  Offline  Online\n",
       "Agency Type                          \n",
       "Airlines                    6   14776\n",
       "Travel Agency             876   44353"
      ]
     },
     "execution_count": 53,
     "metadata": {},
     "output_type": "execute_result"
    }
   ],
   "source": [
    "# Create a contingency table\n",
    "agencytype_distribution_ct = pd.crosstab(index=dataset[\"Agency Type\"], columns=dataset[\"Distribution Channel\"])\n",
    "\n",
    "agencytype_distribution_ct"
   ]
  },
  {
   "cell_type": "code",
   "execution_count": 54,
   "id": "3ee540a3",
   "metadata": {},
   "outputs": [
    {
     "name": "stdout",
     "output_type": "stream",
     "text": [
      "chi2\t\t\t: 275.3159739288374\n",
      "p-value\t\t\t: 7.876927739672211e-62\n",
      "degree of freedom\t: 1\n"
     ]
    }
   ],
   "source": [
    "# Perform Chi-Squared Test\n",
    "(chi2, p, dof, _) = stats.chi2_contingency([agencytype_distribution_ct.iloc[0].values, agencytype_distribution_ct.iloc[1].values])\n",
    "\n",
    "# Print the results\n",
    "print(\"chi2\\t\\t\\t:\", chi2)\n",
    "print(\"p-value\\t\\t\\t:\", p)\n",
    "print(\"degree of freedom\\t:\", dof)"
   ]
  },
  {
   "cell_type": "markdown",
   "id": "0cabfc77",
   "metadata": {},
   "source": [
    "The p-value is statistically significant.<br>\n",
    "We have a **very strong evidence against** the null hypothesis.<br>\n",
    "Hence, there is a relationship between `Agency Type` and `Distribution Channel`."
   ]
  },
  {
   "cell_type": "markdown",
   "id": "bad21254",
   "metadata": {},
   "source": [
    "#### Agency Type vs Claim"
   ]
  },
  {
   "cell_type": "code",
   "execution_count": 55,
   "id": "2f8fac72",
   "metadata": {},
   "outputs": [
    {
     "data": {
      "image/png": "[encoded data removed]",
      "text/plain": [
       "<Figure size 1152x576 with 1 Axes>"
      ]
     },
     "metadata": {},
     "output_type": "display_data"
    }
   ],
   "source": [
    "# Create subplots\n",
    "fig, ax = plt.subplots(figsize=(16,8))\n",
    "ax = sns.countplot(x=\"Agency Type\", hue=\"Claim\", data=dataset)\n",
    "\n",
    "# Create the proportion label\n",
    "for p in ax.patches:\n",
    "    height = p.get_height()\n",
    "    ax.text(p.get_x() + p.get_width() / 2.,\n",
    "            height + 3,\n",
    "            \"{:1.2f}\".format(height / dataset.shape[0]),\n",
    "            ha='center')"
   ]
  },
  {
   "cell_type": "code",
   "execution_count": 56,
   "id": "0092f10d",
   "metadata": {},
   "outputs": [
    {
     "data": {
      "text/html": [
       "<div>\n",
       "<style scoped>\n",
       "    .dataframe tbody tr th:only-of-type {\n",
       "        vertical-align: middle;\n",
       "    }\n",
       "\n",
       "    .dataframe tbody tr th {\n",
       "        vertical-align: top;\n",
       "    }\n",
       "\n",
       "    .dataframe thead th {\n",
       "        text-align: right;\n",
       "    }\n",
       "</style>\n",
       "<table border=\"1\" class=\"dataframe\">\n",
       "  <thead>\n",
       "    <tr style=\"text-align: right;\">\n",
       "      <th>Claim</th>\n",
       "      <th>No</th>\n",
       "      <th>Yes</th>\n",
       "      <th>All</th>\n",
       "    </tr>\n",
       "    <tr>\n",
       "      <th>Agency Type</th>\n",
       "      <th></th>\n",
       "      <th></th>\n",
       "      <th></th>\n",
       "    </tr>\n",
       "  </thead>\n",
       "  <tbody>\n",
       "    <tr>\n",
       "      <th>Airlines</th>\n",
       "      <td>14386</td>\n",
       "      <td>396</td>\n",
       "      <td>14782</td>\n",
       "    </tr>\n",
       "    <tr>\n",
       "      <th>Travel Agency</th>\n",
       "      <td>44920</td>\n",
       "      <td>309</td>\n",
       "      <td>45229</td>\n",
       "    </tr>\n",
       "    <tr>\n",
       "      <th>All</th>\n",
       "      <td>59306</td>\n",
       "      <td>705</td>\n",
       "      <td>60011</td>\n",
       "    </tr>\n",
       "  </tbody>\n",
       "</table>\n",
       "</div>"
      ],
      "text/plain": [
       "Claim             No  Yes    All\n",
       "Agency Type                     \n",
       "Airlines       14386  396  14782\n",
       "Travel Agency  44920  309  45229\n",
       "All            59306  705  60011"
      ]
     },
     "execution_count": 56,
     "metadata": {},
     "output_type": "execute_result"
    }
   ],
   "source": [
    "# Create a contingency table\n",
    "agencytype_claim_ct = pd.crosstab(index=dataset[\"Agency Type\"], columns=dataset[\"Claim\"], margins=True)\n",
    "\n",
    "agencytype_claim_ct"
   ]
  },
  {
   "cell_type": "code",
   "execution_count": 57,
   "id": "072926c7",
   "metadata": {},
   "outputs": [
    {
     "name": "stdout",
     "output_type": "stream",
     "text": [
      "chi2\t\t\t: 382.21074872174404\n",
      "p-value\t\t\t: 1.009230700178576e-83\n",
      "degree of freedom\t: 2\n"
     ]
    }
   ],
   "source": [
    "# Perform Chi-Squared Test\n",
    "(chi2, p, dof, _) = stats.chi2_contingency([agencytype_claim_ct.iloc[0].values, agencytype_claim_ct.iloc[1].values])\n",
    "\n",
    "# Print the results\n",
    "print(\"chi2\\t\\t\\t:\", chi2)\n",
    "print(\"p-value\\t\\t\\t:\", p)\n",
    "print(\"degree of freedom\\t:\", dof)"
   ]
  },
  {
   "cell_type": "markdown",
   "id": "f7425b95",
   "metadata": {},
   "source": [
    "The p-value is statistically significant.<br>\n",
    "We have a **very strong evidence against** the null hypothesis.<br>\n",
    "Hence, there is a relationship between `Agency Type` and `Claim`."
   ]
  },
  {
   "cell_type": "markdown",
   "id": "35443a39",
   "metadata": {},
   "source": [
    "#### Distribution Channel vs Claim"
   ]
  },
  {
   "cell_type": "code",
   "execution_count": 58,
   "id": "4b90de68",
   "metadata": {},
   "outputs": [
    {
     "data": {
      "image/png": "[encoded data removed]",
      "text/plain": [
       "<Figure size 1152x576 with 1 Axes>"
      ]
     },
     "metadata": {},
     "output_type": "display_data"
    }
   ],
   "source": [
    "# Create subplots\n",
    "fig, ax = plt.subplots(figsize=(16,8))\n",
    "ax = sns.countplot(x=\"Distribution Channel\", hue=\"Claim\", data=dataset)\n",
    "\n",
    "# Create the proportion label\n",
    "for p in ax.patches:\n",
    "    height = p.get_height()\n",
    "    ax.text(p.get_x() + p.get_width() / 2.,\n",
    "            height + 3,\n",
    "            \"{:1.2f}\".format(height / dataset.shape[0]),\n",
    "            ha='center')"
   ]
  },
  {
   "cell_type": "code",
   "execution_count": 59,
   "id": "4fbe0bc2",
   "metadata": {},
   "outputs": [
    {
     "data": {
      "text/html": [
       "<div>\n",
       "<style scoped>\n",
       "    .dataframe tbody tr th:only-of-type {\n",
       "        vertical-align: middle;\n",
       "    }\n",
       "\n",
       "    .dataframe tbody tr th {\n",
       "        vertical-align: top;\n",
       "    }\n",
       "\n",
       "    .dataframe thead th {\n",
       "        text-align: right;\n",
       "    }\n",
       "</style>\n",
       "<table border=\"1\" class=\"dataframe\">\n",
       "  <thead>\n",
       "    <tr style=\"text-align: right;\">\n",
       "      <th>Claim</th>\n",
       "      <th>No</th>\n",
       "      <th>Yes</th>\n",
       "      <th>All</th>\n",
       "    </tr>\n",
       "    <tr>\n",
       "      <th>Distribution Channel</th>\n",
       "      <th></th>\n",
       "      <th></th>\n",
       "      <th></th>\n",
       "    </tr>\n",
       "  </thead>\n",
       "  <tbody>\n",
       "    <tr>\n",
       "      <th>Offline</th>\n",
       "      <td>874</td>\n",
       "      <td>8</td>\n",
       "      <td>882</td>\n",
       "    </tr>\n",
       "    <tr>\n",
       "      <th>Online</th>\n",
       "      <td>58432</td>\n",
       "      <td>697</td>\n",
       "      <td>59129</td>\n",
       "    </tr>\n",
       "    <tr>\n",
       "      <th>All</th>\n",
       "      <td>59306</td>\n",
       "      <td>705</td>\n",
       "      <td>60011</td>\n",
       "    </tr>\n",
       "  </tbody>\n",
       "</table>\n",
       "</div>"
      ],
      "text/plain": [
       "Claim                    No  Yes    All\n",
       "Distribution Channel                   \n",
       "Offline                 874    8    882\n",
       "Online                58432  697  59129\n",
       "All                   59306  705  60011"
      ]
     },
     "execution_count": 59,
     "metadata": {},
     "output_type": "execute_result"
    }
   ],
   "source": [
    "# Create a contingency table\n",
    "distribution_claim_ct = pd.crosstab(index=dataset[\"Distribution Channel\"], columns=dataset[\"Claim\"], margins=True)\n",
    "\n",
    "distribution_claim_ct"
   ]
  },
  {
   "cell_type": "code",
   "execution_count": 60,
   "id": "7c8ff070",
   "metadata": {},
   "outputs": [
    {
     "name": "stdout",
     "output_type": "stream",
     "text": [
      "chi2\t\t\t: 0.552775185797806\n",
      "p-value\t\t\t: 0.7585188772478907\n",
      "degree of freedom\t: 2\n"
     ]
    }
   ],
   "source": [
    "# Perform Chi-Squared Test\n",
    "(chi2, p, dof, _) = stats.chi2_contingency([distribution_claim_ct.iloc[0].values, distribution_claim_ct.iloc[1].values])\n",
    "\n",
    "# Print the results\n",
    "print(\"chi2\\t\\t\\t:\", chi2)\n",
    "print(\"p-value\\t\\t\\t:\", p)\n",
    "print(\"degree of freedom\\t:\", dof)"
   ]
  },
  {
   "cell_type": "markdown",
   "id": "5c290608",
   "metadata": {},
   "source": [
    "Null hypothesis is true because the p-value is not statistically significant.<br>\n",
    "We **failed to reject** the null hypothesis, hence there is no relationship between `Distribution Channel` and `Claim`."
   ]
  },
  {
   "cell_type": "markdown",
   "id": "485fd674",
   "metadata": {},
   "source": [
    "### Bivariate Analysis: Two Sample t-test"
   ]
  },
  {
   "cell_type": "code",
   "execution_count": 61,
   "id": "12766679",
   "metadata": {},
   "outputs": [],
   "source": [
    "from scipy.stats import ttest_ind"
   ]
  },
  {
   "cell_type": "markdown",
   "id": "d1c18d14",
   "metadata": {},
   "source": [
    "#### Age and Distribution Channel"
   ]
  },
  {
   "cell_type": "code",
   "execution_count": 62,
   "id": "ba528564",
   "metadata": {},
   "outputs": [
    {
     "data": {
      "image/png": "[encoded data removed]",
      "text/plain": [
       "<Figure size 1152x576 with 1 Axes>"
      ]
     },
     "metadata": {},
     "output_type": "display_data"
    }
   ],
   "source": [
    "# Create subplots\n",
    "fig, ax = plt.subplots(figsize = (16,8))\n",
    "dataset.groupby([\"Distribution Channel\"])[\"Age\"].mean().plot.bar()\n",
    "plt.title(\"Average Age\")\n",
    "\n",
    "# Create the proportion label\n",
    "for p in ax.patches:\n",
    "    height = p.get_height()\n",
    "    ax.text(p.get_x() + p.get_width() / 2.,\n",
    "            height + 1,\n",
    "            \"{:1.2f}\".format(height),\n",
    "            ha=\"center\")"
   ]
  },
  {
   "cell_type": "code",
   "execution_count": 63,
   "id": "275314d2",
   "metadata": {},
   "outputs": [],
   "source": [
    "# Obtain the subsets from dataset segmented with Claim\n",
    "online = dataset[dataset[\"Distribution Channel\"] == \"Online\"]\n",
    "offline = dataset[dataset[\"Distribution Channel\"] == \"Offline\"]"
   ]
  },
  {
   "cell_type": "code",
   "execution_count": 64,
   "id": "45255b09",
   "metadata": {},
   "outputs": [
    {
     "data": {
      "text/plain": [
       "Ttest_indResult(statistic=-36.819941038343956, pvalue=1.6913916188155743e-293)"
      ]
     },
     "execution_count": 64,
     "metadata": {},
     "output_type": "execute_result"
    }
   ],
   "source": [
    "# Perform two sample t-test\n",
    "ttest_ind(online[\"Age\"], offline[\"Age\"], nan_policy=\"omit\")"
   ]
  },
  {
   "cell_type": "markdown",
   "id": "c878d2cc",
   "metadata": {},
   "source": [
    "The p-value is statistically significant.<br>\n",
    "We have a **very strong evidence against** the null hypothesis.<br>\n",
    "Hence, there is a difference between the mean of `Age` of those purchase using **Online** or **Offline** `Distribution Channel`."
   ]
  },
  {
   "cell_type": "markdown",
   "id": "8fd4b77e",
   "metadata": {},
   "source": [
    "#### Age and Claim"
   ]
  },
  {
   "cell_type": "code",
   "execution_count": 65,
   "id": "6d268e72",
   "metadata": {},
   "outputs": [
    {
     "data": {
      "image/png": "[encoded data removed]",
      "text/plain": [
       "<Figure size 1152x576 with 1 Axes>"
      ]
     },
     "metadata": {},
     "output_type": "display_data"
    }
   ],
   "source": [
    "# Create subplots\n",
    "fig, ax = plt.subplots(figsize = (16,8))\n",
    "dataset.groupby([\"Claim\"])[\"Age\"].mean().plot.bar()\n",
    "plt.title(\"Average Age\")\n",
    "\n",
    "# Create the proportion label\n",
    "for p in ax.patches:\n",
    "    height = p.get_height()\n",
    "    ax.text(p.get_x() + p.get_width() / 2.,\n",
    "            height + 1,\n",
    "            \"{:1.2f}\".format(height),\n",
    "            ha=\"center\")"
   ]
  },
  {
   "cell_type": "code",
   "execution_count": 66,
   "id": "bd1a5c9e",
   "metadata": {},
   "outputs": [],
   "source": [
    "# Import ttest_ind from scipy.stats\n",
    "from scipy.stats import ttest_ind"
   ]
  },
  {
   "cell_type": "code",
   "execution_count": 67,
   "id": "625d5d7e",
   "metadata": {},
   "outputs": [],
   "source": [
    "# Obtain the subsets from dataset segmented with Claim\n",
    "with_claim = dataset[dataset[\"Claim\"] == \"Yes\"]\n",
    "without_claim = dataset[dataset[\"Claim\"] == \"No\"]"
   ]
  },
  {
   "cell_type": "code",
   "execution_count": 68,
   "id": "6ef6ff96",
   "metadata": {},
   "outputs": [
    {
     "data": {
      "text/plain": [
       "Ttest_indResult(statistic=-3.504419612073413, pvalue=0.000457936998782913)"
      ]
     },
     "execution_count": 68,
     "metadata": {},
     "output_type": "execute_result"
    }
   ],
   "source": [
    "# Perform two sample t-test\n",
    "ttest_ind(with_claim[\"Age\"], without_claim[\"Age\"], nan_policy=\"omit\")"
   ]
  },
  {
   "cell_type": "markdown",
   "id": "37eaf756",
   "metadata": {},
   "source": [
    "The p-value is statistically significant.<br>\n",
    "We have a **strong evidence against** the null hypothesis.<br>\n",
    "Hence, there is a difference between the mean of `Age` of those with and without `Claim`."
   ]
  },
  {
   "cell_type": "markdown",
   "id": "8ced9f3b",
   "metadata": {},
   "source": [
    "#### Extra Inference"
   ]
  },
  {
   "cell_type": "code",
   "execution_count": 69,
   "id": "bf80e2f7",
   "metadata": {},
   "outputs": [],
   "source": [
    "# Set style\n",
    "sns.set_style('whitegrid')"
   ]
  },
  {
   "cell_type": "code",
   "execution_count": 70,
   "id": "4ea1aed9",
   "metadata": {},
   "outputs": [
    {
     "data": {
      "text/plain": [
       "Age Group\n",
       "0-9      36.367857\n",
       "10-19    37.402670\n",
       "20-29    34.212739\n",
       "30-39    34.686426\n",
       "40-49    34.829237\n",
       "50-59    37.402284\n",
       "60+      34.963530\n",
       "Name: Net Sales, dtype: float64"
      ]
     },
     "execution_count": 70,
     "metadata": {},
     "output_type": "execute_result"
    }
   ],
   "source": [
    "# Group the data by 'Age Group' and get the mean of 'Net Sales'\n",
    "net_sales_by_age_group = dataset.groupby([\"Age Group\"])[\"Net Sales\"].mean()\n",
    "\n",
    "net_sales_by_age_group"
   ]
  },
  {
   "cell_type": "code",
   "execution_count": 71,
   "id": "75c47e25",
   "metadata": {},
   "outputs": [
    {
     "data": {
      "image/png": "[encoded data removed]",
      "text/plain": [
       "<Figure size 1080x432 with 1 Axes>"
      ]
     },
     "metadata": {},
     "output_type": "display_data"
    }
   ],
   "source": [
    "# Plot the bar chart\n",
    "plt.figure(figsize=(15,6))\n",
    "sns.barplot(x = net_sales_by_age_group.index, y=net_sales_by_age_group.values, palette = 'mako')\n",
    "plt.title(\"Bar Plot of Average Net Sales against Age Group\")\n",
    "plt.xlabel(\"Age Group\")\n",
    "plt.ylabel(\"Average Net Sales\")\n",
    "plt.show()"
   ]
  },
  {
   "cell_type": "markdown",
   "id": "c91d70b2",
   "metadata": {},
   "source": [
    "The average `Net Sales` across the `Age Group` are pretty balance.<br>\n",
    "`Age Group` **10-19** and **50-59** being the groups that are willing to spend more on insurance products."
   ]
  },
  {
   "cell_type": "markdown",
   "id": "2dd2e034",
   "metadata": {},
   "source": [
    "# Sprint 4: Modelling and Evaluation using Python"
   ]
  },
  {
   "cell_type": "markdown",
   "id": "6afd35ef",
   "metadata": {},
   "source": [
    "## Train and Test Split, Model Development & Model Training and Selection (Pick an algorithm)"
   ]
  },
  {
   "cell_type": "markdown",
   "id": "8379a5b9",
   "metadata": {},
   "source": [
    "We will be using scikit-learn module as it is one of the most well-known libraries in machine learning industry."
   ]
  },
  {
   "cell_type": "code",
   "execution_count": 72,
   "id": "b2049909",
   "metadata": {},
   "outputs": [],
   "source": [
    "# Import necessary functions and class constructors\n",
    "from sklearn.preprocessing import OneHotEncoder, LabelEncoder\n",
    "from sklearn.model_selection import train_test_split\n",
    "from sklearn.metrics import accuracy_score\n",
    "from sklearn.metrics import confusion_matrix\n",
    "\n",
    "# Multiple modules\n",
    "from sklearn.linear_model import LogisticRegression, SGDClassifier\n",
    "from sklearn.tree import DecisionTreeClassifier\n",
    "from sklearn.ensemble import RandomForestClassifier\n",
    "\n",
    "from sklearn.model_selection import RandomizedSearchCV, GridSearchCV\n",
    "from sklearn.model_selection import RepeatedStratifiedKFold"
   ]
  },
  {
   "cell_type": "code",
   "execution_count": 73,
   "id": "130266f7",
   "metadata": {},
   "outputs": [],
   "source": [
    "# Extract the columns for feature and label\n",
    "X = dataset[[\"Age Group\", \"Destination (Sub-region)\", \"Coverage Period Group\"]]\n",
    "y = dataset[\"Product Name\"]\n",
    "\n",
    "# Split the dataset into train and test datasets\n",
    "X_train, X_test, y_train, y_test = train_test_split(X, y, test_size=0.33, random_state=42)\n",
    "\n",
    "# Encode the features into matrix of 0's and 1's\n",
    "enc = OneHotEncoder(handle_unknown='ignore')\n",
    "X_train = enc.fit_transform(X_train)\n",
    "X_test = enc.transform(X_test)\n",
    "\n",
    "# Encode the label into matrix of 0's and 1's\n",
    "le = LabelEncoder()\n",
    "y_train = le.fit_transform(y_train)\n",
    "y_test = le.transform(y_test)"
   ]
  },
  {
   "cell_type": "code",
   "execution_count": 74,
   "id": "c607006a",
   "metadata": {},
   "outputs": [
    {
     "name": "stdout",
     "output_type": "stream",
     "text": [
      "X_train\t(40207, 75)\n",
      "y_train\t(40207,)\n",
      "X_test\t(19804, 75)\n",
      "y_test\t(19804,)\n"
     ]
    }
   ],
   "source": [
    "# Show the shape of the variables\n",
    "print(\"X_train\\t\" + str(X_train.shape))\n",
    "print(\"y_train\\t\" + str(y_train.shape))\n",
    "print(\"X_test\\t\" + str(X_test.shape))\n",
    "print(\"y_test\\t\" + str(y_test.shape))"
   ]
  },
  {
   "cell_type": "markdown",
   "id": "f2faf480",
   "metadata": {},
   "source": [
    "There are 75 features and each of the row should have `1` in 3 out of the 75 and `0` in the rest.<br>\n",
    "The training dataset contains 40207 records while the testing dataset contains 19804 records."
   ]
  },
  {
   "cell_type": "markdown",
   "id": "76284dc2",
   "metadata": {},
   "source": [
    "We will be mainly focusing these four models:\n",
    "- `LogisticRegression`\n",
    "- `SGDClassifier`\n",
    "- `DecisionTreeClassifier`\n",
    "- `RandomForestClassifier`"
   ]
  },
  {
   "cell_type": "code",
   "execution_count": 75,
   "id": "95813c42",
   "metadata": {},
   "outputs": [
    {
     "name": "stdout",
     "output_type": "stream",
     "text": [
      "Model:\t\tLogisticRegression\n",
      "Accuracy:\t40.95\n",
      "    0    1   2    3    4     5   6   7   8     9   10  11  12  13   14  15  16\n",
      "0    0   67   0   78   62   764   0   0   0    82   0   0   0   0    9   2   0\n",
      "1    0  733   0  321  175  2642   1   0   1   320   0   0   0   0   52   8   0\n",
      "2    0    0   2   38    2     7   0   0   0    14   0   0   0   0   23   0   0\n",
      "3    0  116   2  866  119   490   5   0   0    87   1   0   0   0  105  15   0\n",
      "4    0   19   0  256  474   488   5   0   0    35  11   0   0   0   52  18   0\n",
      "5    0  765   0  389  298  4105   8   0   0   496   1   0   0   0   73   9   0\n",
      "6    0    0   0   36   15    17  26   0   0     1   2   0   0   0    8  10   0\n",
      "7    0    0   0   28   23    36   0   0   0     2   1   0   0   0    6   1   0\n",
      "8    0    0   0   10    1     8   1   0   0    38   0   0   0   0    8   0   1\n",
      "9    0   39   2  274  113   666   1   0   0  1616   0   0   0   0   72   6   0\n",
      "10   0    7   0  163  234   260   4   0   0    23   3   0   0   0   47   5   0\n",
      "11   0    3   0   13    9    23   0   0   0    16   0   0   0   0    1   0   0\n",
      "12   0    0   0   10    1     8   0   0   0     5   1   0   0   0    0   0   0\n",
      "13   0    3   0    8    3    20   0   0   0    12   0   0   0   0    2   0   0\n",
      "14   0    0   0   78    4    10   0   0   0     7   0   0   0   0  249   0   0\n",
      "15   0    0   0   70   18    24   2   0   0     0   6   0   0   0   15  36   0\n",
      "16   0   17   0  200   47   164   2   0   0   145   4   0   0   0   39   4   0\n",
      "\n",
      "Model:\t\tSGDClassifier\n",
      "Accuracy:\t32.97\n",
      "    0     1   2   3   4     5   6   7   8     9   10  11  12  13  14  15   16\n",
      "0   11   208  14  12   6   589   0   0   0   175   6   6   0   1   0  12   24\n",
      "1    1  1088  32  37  17  2104   0   0   0   728  24  18   0   4   7  78  115\n",
      "2    0    26  14   0   0     3   0   0   0    38   0   0   0   0   4   1    0\n",
      "3   18   495  76  95   9   422   0   0   0   424  16  66   0   3  15  85   82\n",
      "4    0   433  12  12  44   228   0   0   0   362  63   0   0   0   8  62  134\n",
      "5   17  1360  25  63  21  3177   0   0   0  1123  42  13   1  10   5  92  195\n",
      "6    0    47   1   1   0     3   0   0   0    15   5   0   0   0   1  37    5\n",
      "7    0    24   1   2   4    22   0   0   0    29   3   0   0   0   0   6    6\n",
      "8    0    11   1   0   0     6   0   0   1    44   1   0   0   0   1   0    2\n",
      "9    2   309  28  19   7   400   0   0   0  1904  15  13   1   2  11  35   43\n",
      "10   2   259  11   3  15   126   0   0   0   203  21   0   0   0   2  34   70\n",
      "11   0    12   1   0   2    15   0   0   0    28   0   4   0   1   0   0    2\n",
      "12   0     5   0   0   0     6   0   0   0     8   1   1   0   0   0   0    4\n",
      "13   0    12   2   1   0    14   0   0   0    15   0   2   0   0   0   1    1\n",
      "14   0   135  24   0   5     0   0   0   0    92   0   0   0   0  68  24    0\n",
      "15   0    36   2   1   0    14   0   0   0    27   6   0   0   0   1  76    8\n",
      "16   4   139  12  17   4   120   0   0   0   236  13  13   0   0   3  34   27\n",
      "\n",
      "Model:\t\tDecisionTreeClassifier\n",
      "Accuracy:\t39.27\n",
      "    0     1   2    3    4     5   6   7   8     9   10  11  12  13   14  15  \\\n",
      "0   14   132   0   69   54   731   0   0   0    54   0   0   0   0    9   0   \n",
      "1   18  1088   1  251  162  2444   7   0   0   216   3   0   1   1   49   9   \n",
      "2    2     5   0   35    4    12   0   0   0     6   0   0   0   0   22   0   \n",
      "3    2   216   3  725  137   496   7   0   0    84   5   1   0   1  100  19   \n",
      "4    0    86   0  168  445   568   8   0   0    10  10   0   0   0   51  12   \n",
      "5   30  1281   0  343  280  3799   6   0   0   309   9   0   1   0   71  10   \n",
      "6    0     7   0   11   25    23  27   0   0     2   3   0   0   0    8   9   \n",
      "7    0     6   0   17   28    39   0   0   0     2   0   0   0   0    5   0   \n",
      "8    0     6   0    3    2    10   1   0   5    27   1   0   1   0    8   0   \n",
      "9   13   202   0  238  111   727   1   0   8  1381   0   0   0   3   70   6   \n",
      "10   0    51   0  112  219   294   5   0   0     8   7   0   0   0   43   7   \n",
      "11   0     5   0   12    6    29   0   0   1    11   0   0   0   0    1   0   \n",
      "12   0     0   0    9    0     9   0   0   0     5   1   0   1   0    0   0   \n",
      "13   0     6   0    5    4    16   0   0   0    12   0   1   0   1    2   0   \n",
      "14   0    10   0   60   13    24   0   0   0     0   0   0   0   0  241   0   \n",
      "15   0    14   0   44   26    28   6   0   0     5   1   0   0   0   15  32   \n",
      "16   3    70   1  156   52   165   2   0   6   113   1   0   0   0   36   5   \n",
      "\n",
      "    16  \n",
      "0    1  \n",
      "1    3  \n",
      "2    0  \n",
      "3   10  \n",
      "4    0  \n",
      "5    5  \n",
      "6    0  \n",
      "7    0  \n",
      "8    3  \n",
      "9   29  \n",
      "10   0  \n",
      "11   0  \n",
      "12   0  \n",
      "13   1  \n",
      "14   0  \n",
      "15   0  \n",
      "16  12  \n",
      "\n",
      "Model:\t\tRandomForestClassifier\n",
      "Accuracy:\t39.46\n",
      "    0     1   2    3    4     5   6   7   8     9   10  11  12  13   14  15  \\\n",
      "0   13   123   0   68   53   741   0   0   0    56   0   0   0   0    9   0   \n",
      "1    8  1020   0  247  162  2503   5   0   0   234   5   3   1   1   49   9   \n",
      "2    0     2   3   35    4    15   0   0   0     5   0   0   0   0   22   0   \n",
      "3    1   178   3  705  141   536   5   0   0    91   9   1   0   3  100  19   \n",
      "4    0    67   0  162  439   592   9   0   0    12  15   0   0   0   51  11   \n",
      "5   19  1178   1  329  280  3899   6   0   0   333   9   2   1   1   71  10   \n",
      "6    0     6   0   12   20    28  21   0   0     2  10   0   0   0    8   8   \n",
      "7    0     4   0   17   25    42   0   0   0     2   2   0   0   0    5   0   \n",
      "8    0     2   0    2    2    15   1   0   4    28   1   0   0   0    8   0   \n",
      "9    9   171   6  226  114   722   1   0   7  1412   0   5   0   3   70   6   \n",
      "10   0    36   0  107  220   310   5   0   0     9   9   0   0   0   43   7   \n",
      "11   0     5   0   12    6    29   0   0   1    10   0   0   0   0    1   0   \n",
      "12   0     0   0    9    0     9   0   0   0     4   1   0   1   0    0   0   \n",
      "13   0     5   0    6    4    16   0   0   0    12   0   1   0   1    2   0   \n",
      "14   0     4   0   58   15    30   0   0   0     0   0   0   0   0  241   0   \n",
      "15   0     6   0   43   26    33   5   1   0     6   5   0   0   0   15  31   \n",
      "16   3    50   1  150   54   182   1   1   2   118   4   0   0   1   36   4   \n",
      "\n",
      "    16  \n",
      "0    1  \n",
      "1    6  \n",
      "2    0  \n",
      "3   14  \n",
      "4    0  \n",
      "5    5  \n",
      "6    0  \n",
      "7    0  \n",
      "8    4  \n",
      "9   37  \n",
      "10   0  \n",
      "11   1  \n",
      "12   1  \n",
      "13   1  \n",
      "14   0  \n",
      "15   0  \n",
      "16  15  \n",
      "\n"
     ]
    }
   ],
   "source": [
    "for model in [\"LogisticRegression\", \"SGDClassifier\", \"DecisionTreeClassifier\", \"RandomForestClassifier\"]:\n",
    "    # choosing the models\n",
    "    if(model == \"LogisticRegression\"):\n",
    "        mdl = LogisticRegression(max_iter=500, random_state = 42)\n",
    "    elif(model == \"SGDClassifier\"):\n",
    "        mdl = SGDClassifier(random_state = 42)\n",
    "    elif(model == \"DecisionTreeClassifier\"):\n",
    "        mdl = DecisionTreeClassifier(random_state = 42)\n",
    "    elif(model == \"RandomForestClassifier\"):\n",
    "        mdl = RandomForestClassifier(random_state = 42)\n",
    "    else:\n",
    "        print(\"Model Not Found\")\n",
    "    \n",
    "    # fit on the training set\n",
    "    mdl.fit(X_train, y_train)\n",
    "    \n",
    "    # predict on test set\n",
    "    yhat = mdl.predict(X_test)\n",
    "    \n",
    "    # evaluate predictions\n",
    "    accuracy = accuracy_score(y_test, yhat)\n",
    "    print(\"Model:\\t\\t\" + model)\n",
    "    print(\"Accuracy:\\t%.2f\" % (accuracy * 100))\n",
    "    print(pd.DataFrame(confusion_matrix(y_test, yhat)))\n",
    "    print()"
   ]
  },
  {
   "cell_type": "markdown",
   "id": "c8f0967b",
   "metadata": {},
   "source": [
    "The accuracy scores are ranging from **32** to **41**.<br>\n",
    "This is acceptable as 2 out of 5 customers will be recommended the most suitable products tailored to their conditions.<br>\n",
    "Moreover, top 3 products will be advertised to them which means that the probability of introducing the correct products will be multiplied.<br>\n",
    "All in all, these accuracy scores except for `SGDClassifier` are pretty decent."
   ]
  },
  {
   "cell_type": "markdown",
   "id": "8e1e8f41",
   "metadata": {},
   "source": [
    "## Model Tuning and Scoring, Model Evaluation & Choose the Best Model"
   ]
  },
  {
   "cell_type": "markdown",
   "id": "80e8184d",
   "metadata": {},
   "source": [
    "We will perform hyperparameter tuning on `DecisionTreeClassifier` since it is having score that can be optimised further."
   ]
  },
  {
   "cell_type": "code",
   "execution_count": 76,
   "id": "3b8e1f18",
   "metadata": {},
   "outputs": [
    {
     "name": "stdout",
     "output_type": "stream",
     "text": [
      "ccp_alpha: 0.0\n",
      "class_weight: None\n",
      "criterion: gini\n",
      "max_depth: None\n",
      "max_features: None\n",
      "max_leaf_nodes: None\n",
      "min_impurity_decrease: 0.0\n",
      "min_samples_leaf: 1\n",
      "min_samples_split: 2\n",
      "min_weight_fraction_leaf: 0.0\n",
      "random_state: 42\n",
      "splitter: best\n"
     ]
    }
   ],
   "source": [
    "# Instantiate a DecisionTreeClassifier\n",
    "dtc = DecisionTreeClassifier(random_state=42)\n",
    "\n",
    "# Print out the available hyperparameters with their default values\n",
    "for key, value in dtc.get_params().items():\n",
    "    print(key + \": \" + str(value))"
   ]
  },
  {
   "cell_type": "code",
   "execution_count": 77,
   "id": "78a0274d",
   "metadata": {},
   "outputs": [],
   "source": [
    "# Define the grid of hyperparameters\n",
    "params_dtc = {\"max_depth\": [3, 4, 5, 6],\n",
    "              \"max_features\": [0.2, 0.4, 0.6, 0.8],\n",
    "              \"min_samples_leaf\": [0.04, 0.06, 0.08]}"
   ]
  },
  {
   "cell_type": "code",
   "execution_count": 78,
   "id": "def12115",
   "metadata": {},
   "outputs": [],
   "source": [
    "# Instantiate a 10-fold CV grid search\n",
    "grid_dtc = GridSearchCV(estimator=dtc, param_grid=params_dtc, cv=10, n_jobs=-1, scoring=\"accuracy\")"
   ]
  },
  {
   "cell_type": "code",
   "execution_count": 79,
   "id": "87d8dafa",
   "metadata": {},
   "outputs": [
    {
     "name": "stdout",
     "output_type": "stream",
     "text": [
      "Best hyperparameters:\n",
      "max_depth: 6\n",
      "max_features: 0.6\n",
      "min_samples_leaf: 0.04\n",
      "\n",
      "Best CV accuracy: 38.41\n"
     ]
    }
   ],
   "source": [
    "# Fit the training set to the algorithm\n",
    "grid_dtc.fit(X_train, y_train)\n",
    "\n",
    "# Obtain the best hyperparameters among the 48\n",
    "print(\"Best hyperparameters:\")\n",
    "for key, value in grid_dtc.best_params_.items():\n",
    "    print(key + \": \" + str(value))\n",
    "\n",
    "# Obtain the highest CV score returned by best hyperparameters\n",
    "print(\"\\nBest CV accuracy: %.2f\" % (grid_dtc.best_score_ * 100))"
   ]
  },
  {
   "cell_type": "markdown",
   "id": "bfa784bf",
   "metadata": {},
   "source": [
    "Since the accuracy score isn't ideal, we will perform another set of parameters for the grid search."
   ]
  },
  {
   "cell_type": "code",
   "execution_count": 80,
   "id": "07d6ff39",
   "metadata": {
    "code_folding": []
   },
   "outputs": [],
   "source": [
    "# Define the grid of hyperparameters\n",
    "params_dtc2 = {\"max_depth\": [3, 4, 5, 6, 7, 8, 9],\n",
    "               \"max_features\": [0.4, 0.45, 0.5, 0.55, 0.6, 0.65, 0.7, 0.75, 0.8],\n",
    "               \"min_samples_leaf\": [0.02, 0.025, 0.03, 0.035, 0.04, 0.045, 0.05, 0.055, 0.06]}"
   ]
  },
  {
   "cell_type": "code",
   "execution_count": 81,
   "id": "cd193646",
   "metadata": {},
   "outputs": [],
   "source": [
    "# Instantiate a 10-fold CV grid search\n",
    "grid_dtc2 = GridSearchCV(estimator=dtc, param_grid=params_dtc2, cv=10, n_jobs=-1, scoring=\"accuracy\")"
   ]
  },
  {
   "cell_type": "code",
   "execution_count": 82,
   "id": "51ab43bc",
   "metadata": {},
   "outputs": [
    {
     "name": "stdout",
     "output_type": "stream",
     "text": [
      "Best hyperparameters:\n",
      "max_depth: 7\n",
      "max_features: 0.5\n",
      "min_samples_leaf: 0.03\n",
      "\n",
      "Best CV accuracy: 39.43\n"
     ]
    }
   ],
   "source": [
    "# Fit the training set to the algorithm\n",
    "grid_dtc2.fit(X_train, y_train)\n",
    "\n",
    "# Obtain the best hyperparameters among the 48\n",
    "print(\"Best hyperparameters:\")\n",
    "for key, value in grid_dtc2.best_params_.items():\n",
    "    print(key + \": \" + str(value))\n",
    "\n",
    "# Obtain the highest CV score returned by best hyperparameters\n",
    "print(\"\\nBest CV accuracy: %.2f\" % (grid_dtc2.best_score_ * 100))"
   ]
  },
  {
   "cell_type": "markdown",
   "id": "0f307589",
   "metadata": {},
   "source": [
    "Hyperparameter tuning is completed, it's time to extract the model."
   ]
  },
  {
   "cell_type": "code",
   "execution_count": 83,
   "id": "876daaa9",
   "metadata": {},
   "outputs": [
    {
     "name": "stdout",
     "output_type": "stream",
     "text": [
      "ccp_alpha: 0.0\n",
      "class_weight: None\n",
      "criterion: gini\n",
      "max_depth: 7\n",
      "max_features: 0.5\n",
      "max_leaf_nodes: None\n",
      "min_impurity_decrease: 0.0\n",
      "min_samples_leaf: 0.03\n",
      "min_samples_split: 2\n",
      "min_weight_fraction_leaf: 0.0\n",
      "random_state: 42\n",
      "splitter: best\n"
     ]
    }
   ],
   "source": [
    "# Extract best model from grid_dt\n",
    "best_model = grid_dtc2.best_estimator_\n",
    "\n",
    "# Print out the hyperparameters with their values\n",
    "for key, value in best_model.get_params().items():\n",
    "    print(key + \": \" + str(value))"
   ]
  },
  {
   "cell_type": "code",
   "execution_count": 84,
   "id": "340cf98e",
   "metadata": {},
   "outputs": [
    {
     "name": "stdout",
     "output_type": "stream",
     "text": [
      "Test set accuracy for the best model: 40.13\n"
     ]
    }
   ],
   "source": [
    "# Evaluate test set accuracy\n",
    "test_acc = best_model.score(X_test, y_test)\n",
    "\n",
    "# Print test set accuracy\n",
    "print(\"Test set accuracy for the best model: %.2f\" % (test_acc * 100))"
   ]
  },
  {
   "cell_type": "markdown",
   "id": "990d79fc",
   "metadata": {},
   "source": [
    "The model can still be further tuned. However, it is good to go now."
   ]
  }
 ],
 "metadata": {
  "kernelspec": {
   "display_name": "Python 3 (ipykernel)",
   "language": "python",
   "name": "python3"
  },
  "language_info": {
   "codemirror_mode": {
    "name": "ipython",
    "version": 3
   },
   "file_extension": ".py",
   "mimetype": "text/x-python",
   "name": "python",
   "nbconvert_exporter": "python",
   "pygments_lexer": "ipython3",
   "version": "3.8.13"
  },
  "toc": {
   "base_numbering": 1,
   "nav_menu": {},
   "number_sections": true,
   "sideBar": true,
   "skip_h1_title": false,
   "title_cell": "Table of Contents",
   "title_sidebar": "Contents",
   "toc_cell": true,
   "toc_position": {
    "height": "calc(100% - 180px)",
    "left": "10px",
    "top": "150px",
    "width": "357.825px"
   },
   "toc_section_display": true,
   "toc_window_display": true
  }
 },
 "nbformat": 4,
 "nbformat_minor": 5
}
